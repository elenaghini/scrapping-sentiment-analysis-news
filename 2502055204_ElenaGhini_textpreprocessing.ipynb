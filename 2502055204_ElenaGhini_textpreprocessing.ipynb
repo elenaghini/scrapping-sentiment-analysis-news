{
 "cells": [
  {
   "cell_type": "code",
   "execution_count": 1,
   "metadata": {},
   "outputs": [],
   "source": [
    "import string\n",
    "from sklearn.pipeline import Pipeline\n",
    "import pandas as pd\n",
    "import numpy as np"
   ]
  },
  {
   "cell_type": "code",
   "execution_count": 2,
   "metadata": {},
   "outputs": [
    {
     "data": {
      "text/plain": [
       "<bound method NDFrame.head of                                                  Teks     Media    Label\n",
       "0   Sekjen Partai Gerindra, Ahmad Muzani, menyingg...  Detikcom  Politik\n",
       "1   Sekjen Partai Gerindra, Ahmad Muzani, menyingg...  Detikcom  Politik\n",
       "2   Bakal calon wakil presiden (bacawapres) Koalis...  Detikcom  Politik\n",
       "3   Polres Indramayu terjun ke sejumlah pondok pes...  Detikcom  Politik\n",
       "4   Menteri Agama yang juga menjabat sebagai Ketua...  Detikcom  Politik\n",
       "..                                                ...       ...      ...\n",
       "85  Nama Ragil Kembar Dwi Suryo atau yang akrab di...  Liputan6  Hiburan\n",
       "86  Sebagai pusat hiburan keluarga, Timezone mengu...  Liputan6  Hiburan\n",
       "87  Selain bermain musik, siapa sangka penyanyi wa...  Liputan6  Hiburan\n",
       "88  Vokalis Band Wali, Farhan Zainal Muttaqin atau...  Liputan6  Hiburan\n",
       "89  Lalisa Manoban, atau yang lebih dikenal dengan...  Liputan6  Hiburan\n",
       "\n",
       "[90 rows x 3 columns]>"
      ]
     },
     "execution_count": 2,
     "metadata": {},
     "output_type": "execute_result"
    }
   ],
   "source": [
    "data = pd.read_csv('Dataset.csv', sep=',',encoding='utf-8')\n",
    "data.head\n"
   ]
  },
  {
   "cell_type": "markdown",
   "metadata": {},
   "source": [
    "**Cleansing**"
   ]
  },
  {
   "cell_type": "code",
   "execution_count": 3,
   "metadata": {},
   "outputs": [
    {
     "data": {
      "text/html": [
       "<div>\n",
       "<style scoped>\n",
       "    .dataframe tbody tr th:only-of-type {\n",
       "        vertical-align: middle;\n",
       "    }\n",
       "\n",
       "    .dataframe tbody tr th {\n",
       "        vertical-align: top;\n",
       "    }\n",
       "\n",
       "    .dataframe thead th {\n",
       "        text-align: right;\n",
       "    }\n",
       "</style>\n",
       "<table border=\"1\" class=\"dataframe\">\n",
       "  <thead>\n",
       "    <tr style=\"text-align: right;\">\n",
       "      <th></th>\n",
       "      <th>Teks</th>\n",
       "      <th>Media</th>\n",
       "      <th>Label</th>\n",
       "    </tr>\n",
       "  </thead>\n",
       "  <tbody>\n",
       "    <tr>\n",
       "      <th>0</th>\n",
       "      <td>sekjen partai gerindra ahmad muzani menyinggun...</td>\n",
       "      <td>Detikcom</td>\n",
       "      <td>Politik</td>\n",
       "    </tr>\n",
       "    <tr>\n",
       "      <th>1</th>\n",
       "      <td>sekjen partai gerindra ahmad muzani menyinggun...</td>\n",
       "      <td>Detikcom</td>\n",
       "      <td>Politik</td>\n",
       "    </tr>\n",
       "    <tr>\n",
       "      <th>2</th>\n",
       "      <td>bakal calon wakil presiden bacawapres koalisi ...</td>\n",
       "      <td>Detikcom</td>\n",
       "      <td>Politik</td>\n",
       "    </tr>\n",
       "    <tr>\n",
       "      <th>3</th>\n",
       "      <td>polres indramayu terjun ke sejumlah pondok pes...</td>\n",
       "      <td>Detikcom</td>\n",
       "      <td>Politik</td>\n",
       "    </tr>\n",
       "    <tr>\n",
       "      <th>4</th>\n",
       "      <td>menteri agama yang juga menjabat sebagai ketua...</td>\n",
       "      <td>Detikcom</td>\n",
       "      <td>Politik</td>\n",
       "    </tr>\n",
       "    <tr>\n",
       "      <th>...</th>\n",
       "      <td>...</td>\n",
       "      <td>...</td>\n",
       "      <td>...</td>\n",
       "    </tr>\n",
       "    <tr>\n",
       "      <th>65</th>\n",
       "      <td>calon presiden capres prabowo subianto dipredi...</td>\n",
       "      <td>Liputan6</td>\n",
       "      <td>Politik</td>\n",
       "    </tr>\n",
       "    <tr>\n",
       "      <th>66</th>\n",
       "      <td>ketua umum ketum partai gerindra sekaligus bak...</td>\n",
       "      <td>Liputan6</td>\n",
       "      <td>Politik</td>\n",
       "    </tr>\n",
       "    <tr>\n",
       "      <th>67</th>\n",
       "      <td>bakal calon presiden dari koalisi indonesia ma...</td>\n",
       "      <td>Liputan6</td>\n",
       "      <td>Politik</td>\n",
       "    </tr>\n",
       "    <tr>\n",
       "      <th>68</th>\n",
       "      <td>peneliti dari lembaga survei indonesia politic...</td>\n",
       "      <td>Liputan6</td>\n",
       "      <td>Politik</td>\n",
       "    </tr>\n",
       "    <tr>\n",
       "      <th>69</th>\n",
       "      <td>sekjen pdip hasto kristiyanto menyatakan penca...</td>\n",
       "      <td>Liputan6</td>\n",
       "      <td>Politik</td>\n",
       "    </tr>\n",
       "  </tbody>\n",
       "</table>\n",
       "<p>70 rows × 3 columns</p>\n",
       "</div>"
      ],
      "text/plain": [
       "                                                 Teks     Media    Label\n",
       "0   sekjen partai gerindra ahmad muzani menyinggun...  Detikcom  Politik\n",
       "1   sekjen partai gerindra ahmad muzani menyinggun...  Detikcom  Politik\n",
       "2   bakal calon wakil presiden bacawapres koalisi ...  Detikcom  Politik\n",
       "3   polres indramayu terjun ke sejumlah pondok pes...  Detikcom  Politik\n",
       "4   menteri agama yang juga menjabat sebagai ketua...  Detikcom  Politik\n",
       "..                                                ...       ...      ...\n",
       "65  calon presiden capres prabowo subianto dipredi...  Liputan6  Politik\n",
       "66  ketua umum ketum partai gerindra sekaligus bak...  Liputan6  Politik\n",
       "67  bakal calon presiden dari koalisi indonesia ma...  Liputan6  Politik\n",
       "68  peneliti dari lembaga survei indonesia politic...  Liputan6  Politik\n",
       "69  sekjen pdip hasto kristiyanto menyatakan penca...  Liputan6  Politik\n",
       "\n",
       "[70 rows x 3 columns]"
      ]
     },
     "execution_count": 3,
     "metadata": {},
     "output_type": "execute_result"
    }
   ],
   "source": [
    "import re\n",
    "\n",
    "def casefolding(Teks):\n",
    "    #menghapus baris yang ada kata tertentu\n",
    "    Teks = re.sub(r'â€œ','', Teks)\n",
    "    #Teks = re.sub(r'^Liputancom, Jakarta ','', Teks)\n",
    "    \n",
    "    \n",
    "    # Tahap-10: konversi ke karakter huruf kecil\n",
    "    Teks = Teks.lower()\n",
    "    Teks = Teks.strip(\" \")\n",
    "    Teks = re.sub(r'[?|$|.|!^2_:\")(-+,)]', '', Teks)\n",
    "    # Tahap-1: Non-ascii\n",
    "    Teks = re.sub(r'[^\\x00-\\x7F]+', ' ', Teks)\n",
    "    \n",
    "    \n",
    "    # Tahap-3: mentions\n",
    "    Teks = re.sub(r'\\#([\\w]+)',' ', Teks)\n",
    "    # Tahap-4_alt-2: konversi tagar ke kalimat (pemisahan string berdasarkan huruf kapital)**\n",
    "    Teks = re.sub(r'((?<=[a-z])[A-Z]|[A-Z](?=[a-z]))', ' \\\\1', Teks)\n",
    "    # Tahap-5: simbol\n",
    "    Teks = re.sub(r'[!$%^&*@#()_+|~=`{}\\[\\]%\\-:\";\\'<>?,.\\/]', ' ', Teks)\n",
    "    # Tahap-6: angka\n",
    "    Teks = re.sub(r'[0-9]+', '', Teks)\n",
    "    # Tahap-7: koreksi duplikasi tiga karakter beruntun atau lebih (contoh. yukkk)\n",
    "    Teks = re.sub(r'([a-zA-Z])\\1\\1', '\\\\1', Teks)\n",
    "    # Tahap-8: spasi ganda (atau lebih) menjadi satu spasi\n",
    "    Teks = re.sub(' +', ' ', Teks)\n",
    "    # Tahap-9: spasi di awal dan akhir kalimat\n",
    "    Teks = re.sub(r'^[ ]|[ ]$', '', Teks)\n",
    "\n",
    "    return Teks\n",
    "\n",
    "# Assuming 'data' is a DataFrame with a column named 'Teks'\n",
    "data['Teks'] = data['Teks'].apply(casefolding)\n",
    "\n",
    "# Save the cleansed DataFrame to a CSV file\n",
    "#data.to_csv('cleansed_scraping.csv', index=False)\n",
    "\n",
    "data.head(70)\n"
   ]
  },
  {
   "cell_type": "markdown",
   "metadata": {},
   "source": [
    "**Tokenization**"
   ]
  },
  {
   "cell_type": "code",
   "execution_count": 4,
   "metadata": {},
   "outputs": [
    {
     "data": {
      "text/html": [
       "<div>\n",
       "<style scoped>\n",
       "    .dataframe tbody tr th:only-of-type {\n",
       "        vertical-align: middle;\n",
       "    }\n",
       "\n",
       "    .dataframe tbody tr th {\n",
       "        vertical-align: top;\n",
       "    }\n",
       "\n",
       "    .dataframe thead th {\n",
       "        text-align: right;\n",
       "    }\n",
       "</style>\n",
       "<table border=\"1\" class=\"dataframe\">\n",
       "  <thead>\n",
       "    <tr style=\"text-align: right;\">\n",
       "      <th></th>\n",
       "      <th>Teks</th>\n",
       "      <th>Media</th>\n",
       "      <th>Label</th>\n",
       "    </tr>\n",
       "  </thead>\n",
       "  <tbody>\n",
       "    <tr>\n",
       "      <th>0</th>\n",
       "      <td>[sekjen, partai, gerindra, ahmad, muzani, meny...</td>\n",
       "      <td>Detikcom</td>\n",
       "      <td>Politik</td>\n",
       "    </tr>\n",
       "    <tr>\n",
       "      <th>1</th>\n",
       "      <td>[sekjen, partai, gerindra, ahmad, muzani, meny...</td>\n",
       "      <td>Detikcom</td>\n",
       "      <td>Politik</td>\n",
       "    </tr>\n",
       "    <tr>\n",
       "      <th>2</th>\n",
       "      <td>[bakal, calon, wakil, presiden, bacawapres, ko...</td>\n",
       "      <td>Detikcom</td>\n",
       "      <td>Politik</td>\n",
       "    </tr>\n",
       "    <tr>\n",
       "      <th>3</th>\n",
       "      <td>[polres, indramayu, terjun, ke, sejumlah, pond...</td>\n",
       "      <td>Detikcom</td>\n",
       "      <td>Politik</td>\n",
       "    </tr>\n",
       "    <tr>\n",
       "      <th>4</th>\n",
       "      <td>[menteri, agama, yang, juga, menjabat, sebagai...</td>\n",
       "      <td>Detikcom</td>\n",
       "      <td>Politik</td>\n",
       "    </tr>\n",
       "    <tr>\n",
       "      <th>5</th>\n",
       "      <td>[bakal, calon, presiden, bacapres, ganjar, pra...</td>\n",
       "      <td>Detikcom</td>\n",
       "      <td>Politik</td>\n",
       "    </tr>\n",
       "    <tr>\n",
       "      <th>6</th>\n",
       "      <td>[bacawapres, mahfud, md, memberi, bekal, kepad...</td>\n",
       "      <td>Detikcom</td>\n",
       "      <td>Politik</td>\n",
       "    </tr>\n",
       "    <tr>\n",
       "      <th>7</th>\n",
       "      <td>[kelompok, masyarakat, di, jawa, tengah, jaten...</td>\n",
       "      <td>Detikcom</td>\n",
       "      <td>Politik</td>\n",
       "    </tr>\n",
       "    <tr>\n",
       "      <th>8</th>\n",
       "      <td>[polres, malang, gencar, menjaga, sinergi, dan...</td>\n",
       "      <td>Detikcom</td>\n",
       "      <td>Politik</td>\n",
       "    </tr>\n",
       "    <tr>\n",
       "      <th>9</th>\n",
       "      <td>[pengacara, otto, hasibuan, didapuk, sebagai, ...</td>\n",
       "      <td>Detikcom</td>\n",
       "      <td>Politik</td>\n",
       "    </tr>\n",
       "  </tbody>\n",
       "</table>\n",
       "</div>"
      ],
      "text/plain": [
       "                                                Teks     Media    Label\n",
       "0  [sekjen, partai, gerindra, ahmad, muzani, meny...  Detikcom  Politik\n",
       "1  [sekjen, partai, gerindra, ahmad, muzani, meny...  Detikcom  Politik\n",
       "2  [bakal, calon, wakil, presiden, bacawapres, ko...  Detikcom  Politik\n",
       "3  [polres, indramayu, terjun, ke, sejumlah, pond...  Detikcom  Politik\n",
       "4  [menteri, agama, yang, juga, menjabat, sebagai...  Detikcom  Politik\n",
       "5  [bakal, calon, presiden, bacapres, ganjar, pra...  Detikcom  Politik\n",
       "6  [bacawapres, mahfud, md, memberi, bekal, kepad...  Detikcom  Politik\n",
       "7  [kelompok, masyarakat, di, jawa, tengah, jaten...  Detikcom  Politik\n",
       "8  [polres, malang, gencar, menjaga, sinergi, dan...  Detikcom  Politik\n",
       "9  [pengacara, otto, hasibuan, didapuk, sebagai, ...  Detikcom  Politik"
      ]
     },
     "execution_count": 4,
     "metadata": {},
     "output_type": "execute_result"
    }
   ],
   "source": [
    "def token(Teks):\n",
    "    nstr = Teks.split(' ')\n",
    "    dat = []\n",
    "    a = -1\n",
    "    for hu in nstr:\n",
    "        a = a + 1\n",
    "        if hu == '':\n",
    "            dat.append(a)\n",
    "    p = 0\n",
    "    b = 0\n",
    "    for q in dat:\n",
    "        b = q - p\n",
    "        del nstr[b]\n",
    "        p = p + 1\n",
    "    return nstr\n",
    "\n",
    "data['Teks'] = data['Teks'].apply(token)\n",
    "data.head(10)\n"
   ]
  },
  {
   "cell_type": "markdown",
   "metadata": {},
   "source": [
    "**StopWord**"
   ]
  },
  {
   "cell_type": "code",
   "execution_count": 5,
   "metadata": {},
   "outputs": [
    {
     "name": "stderr",
     "output_type": "stream",
     "text": [
      "[nltk_data] Downloading package stopwords to\n",
      "[nltk_data]     C:\\Users\\Lenovo\\AppData\\Roaming\\nltk_data...\n",
      "[nltk_data]   Package stopwords is already up-to-date!\n"
     ]
    },
    {
     "data": {
      "text/html": [
       "<div>\n",
       "<style scoped>\n",
       "    .dataframe tbody tr th:only-of-type {\n",
       "        vertical-align: middle;\n",
       "    }\n",
       "\n",
       "    .dataframe tbody tr th {\n",
       "        vertical-align: top;\n",
       "    }\n",
       "\n",
       "    .dataframe thead th {\n",
       "        text-align: right;\n",
       "    }\n",
       "</style>\n",
       "<table border=\"1\" class=\"dataframe\">\n",
       "  <thead>\n",
       "    <tr style=\"text-align: right;\">\n",
       "      <th></th>\n",
       "      <th>Teks</th>\n",
       "      <th>Media</th>\n",
       "      <th>Label</th>\n",
       "    </tr>\n",
       "  </thead>\n",
       "  <tbody>\n",
       "    <tr>\n",
       "      <th>0</th>\n",
       "      <td>[sekjen, partai, gerindra, ahmad, muzani, meny...</td>\n",
       "      <td>Detikcom</td>\n",
       "      <td>Politik</td>\n",
       "    </tr>\n",
       "    <tr>\n",
       "      <th>1</th>\n",
       "      <td>[sekjen, partai, gerindra, ahmad, muzani, meny...</td>\n",
       "      <td>Detikcom</td>\n",
       "      <td>Politik</td>\n",
       "    </tr>\n",
       "    <tr>\n",
       "      <th>2</th>\n",
       "      <td>[calon, wakil, presiden, bacawapres, koalisi, ...</td>\n",
       "      <td>Detikcom</td>\n",
       "      <td>Politik</td>\n",
       "    </tr>\n",
       "    <tr>\n",
       "      <th>3</th>\n",
       "      <td>[polres, indramayu, terjun, pondok, pesantren,...</td>\n",
       "      <td>Detikcom</td>\n",
       "      <td>Politik</td>\n",
       "    </tr>\n",
       "    <tr>\n",
       "      <th>4</th>\n",
       "      <td>[menteri, agama, menjabat, ketua, ketum, gp, a...</td>\n",
       "      <td>Detikcom</td>\n",
       "      <td>Politik</td>\n",
       "    </tr>\n",
       "  </tbody>\n",
       "</table>\n",
       "</div>"
      ],
      "text/plain": [
       "                                                Teks     Media    Label\n",
       "0  [sekjen, partai, gerindra, ahmad, muzani, meny...  Detikcom  Politik\n",
       "1  [sekjen, partai, gerindra, ahmad, muzani, meny...  Detikcom  Politik\n",
       "2  [calon, wakil, presiden, bacawapres, koalisi, ...  Detikcom  Politik\n",
       "3  [polres, indramayu, terjun, pondok, pesantren,...  Detikcom  Politik\n",
       "4  [menteri, agama, menjabat, ketua, ketum, gp, a...  Detikcom  Politik"
      ]
     },
     "execution_count": 5,
     "metadata": {},
     "output_type": "execute_result"
    }
   ],
   "source": [
    "import nltk\n",
    "nltk.download('stopwords')\n",
    "from nltk.corpus import stopwords\n",
    "\n",
    "def stopword_removal(Teks):\n",
    "    filtering=stopwords.words('indonesian', 'english')\n",
    "    x=[]\n",
    "    data=[]\n",
    "    def myFunc(x):\n",
    "        if x in filtering:\n",
    "            return False\n",
    "        else:\n",
    "            return True\n",
    "    fit=filter(myFunc,Teks)\n",
    "    for x in fit:\n",
    "        data.append(x)\n",
    "    return data\n",
    "data['Teks']=data['Teks'].apply(stopword_removal)\n",
    "data.head()\n",
    "\n"
   ]
  },
  {
   "cell_type": "markdown",
   "metadata": {},
   "source": [
    "**Stemming**"
   ]
  },
  {
   "cell_type": "code",
   "execution_count": 11,
   "metadata": {},
   "outputs": [
    {
     "name": "stdout",
     "output_type": "stream",
     "text": [
      "Requirement already satisfied: Sastrawi in c:\\users\\lenovo\\appdata\\local\\programs\\python\\python311\\lib\\site-packages (1.0.1)\n",
      "Note: you may need to restart the kernel to use updated packages.\n"
     ]
    }
   ],
   "source": [
    "pip install Sastrawi"
   ]
  },
  {
   "cell_type": "code",
   "execution_count": 12,
   "metadata": {},
   "outputs": [
    {
     "name": "stdout",
     "output_type": "stream",
     "text": [
      "Requirement already satisfied: Sastrawi in c:\\users\\lenovo\\appdata\\local\\programs\\python\\python311\\lib\\site-packages (1.0.1)\n",
      "Note: you may need to restart the kernel to use updated packages.\n"
     ]
    }
   ],
   "source": [
    "pip install --upgrade Sastrawi\n"
   ]
  },
  {
   "cell_type": "code",
   "execution_count": 6,
   "metadata": {},
   "outputs": [
    {
     "name": "stdout",
     "output_type": "stream",
     "text": [
      "sekjen partai gerindra ahmad muzani singgung cawapres gibran rakabuming pimpin pks nilai anak muda milik hak kesempatananak muda hak anak muda sempat bagus nggak anak muda ketua dpp pks mardani ali sera wartawan jumat mardani proses barus proses etika scroll to continue with content syarat proses proses etika ujarnyamardani dukung anak muda kualitas sebut pks masalah anak muda pimpin pilih rakyatkita dukung anak muda kualitas integritas pilih rakyat mesti ujarnyamuzani sindir duet capres cawapres prabowo subianto gibran rakabuming raka muzani sebab suka pasang iniitu orang suka pasang prabowo gibran orang situasi milu sepakat mas gibran cawapres koalisi indonesia maju sambut indonesia emas muzani hadir konsolidasi ribu kader kabupaten tegal kota tegal kutip jumat muzani sebut khawatir peran anak muda signifikan milu sebut gibran wakil anak muda siap indonesia emasagar usia negara indonesia gibran wakil anak muda siap indonesia emas generasi muda siap pimpin rela muzaniwakil ketua tkn prabowo gibran sebut upaya upaya sistematis degradasi dukung prabowo gibran tuduh nepotisme koalisi indonesia maju pilih gibran cawaprestapi upaya curiga upaya disalahpahami salah erti tuduh hidup orde tuduh hidup nepotisme kkn pasang prabowo gibran mundur muzanipadahal persen pilih milu anak muda masak aju cawapres anak muda tuduh menang prabowo gibran mata upaya dihalangisambungnya\n",
      "sekjen partai gerindra ahmad muzani singgung cawapres gibran rakabuming raka pimpin pkb sindir muzanialhamdulillah tanda tanda sadar fakta masyarakat urus bangsa urus keluarga kelompok sosok minim alam waketum pkb jazilul fawaid wartawan jumat malammenurut jazilul cermin jadi muncul gejolak harap milu kali lahir pimpin atas krisis scroll to continue with content kita cermin jadi gejolak masyarakat ulang titik nol ucapnyakita harap milu lahir harap lahir pimpin atas krisis demokrasi sakit kritis imbuhnyamuzani duet prabowo subianto gibran rakabuming raka muzani sebab suka pasang iniitu orang suka pasang prabowo gibran orang situasi milu sepakat mas gibran cawapres koalisi indonesia maju sambut indonesia emas muzani hadir konsolidasi ribu kader kabupaten tegal kota tegal kutip jumat muzani sebut khawatir peran anak muda signifikan milu sebut gibran wakil anak muda siap indonesia emaswakil ketua tkn prabowo gibran sebut upaya sistematis degradasi dukung prabowo gibran tuduh nepotisme koalisi indonesia maju pilih gibran cawaprestapi upaya curiga upaya disalahpahami salah erti tuduh hidup orde tuduh hidup nepotisme kkn pasang prabowo gibran mundur muzanipadahal persen pilih milu anak muda masak aju cawapres anak muda tuduh menang prabowo gibran mata upaya dihalangijelasnya\n",
      "calon wakil presiden bacawapres koalisi ubah muhaimin iskandar cak imin aku data sendiri hasil survei pilpres cak imin klaim suara anies baswedan cak imin amin data survei milik tingkat tajamatas kuat dikonsolidir lapor survei survei tingkat tajam survei bikin survei real cak imin sambut hadap ulama kiai gus acara deklarasi komite palestina laskar santri amin gera nahdliyin satu surabaya kamis malamwaktu elektabilitas anies baswedan angka persen persen mas anies gabung muncul alhamdulillah survei tambah scroll to continue with content tum pkb sebut elektabilitas amin angka angka persen survei sungguh calon bicara margin of error nya margin of error persen bagi persen an tinggal sisa persen persen an tinggal rebut sisa persen ngos ngosan cak iminkarena doa masyarakat saing sengit imbang\n",
      "polres indramayu terjun pondok pesantren ponpes kabupaten indramayu polisi ajak santri jaga kondusifitas jelang milu ponpes kunjung kapolres indramayu akbp m fahri siregar serta jajar pek ponpes pondok pesantren qur an modern assyauqi camat haurgeulis pondok pesantren darussalam gribiig desa lempuyang pondok pesantren assyarifiyah sunan gunung jati blok bunder desa patrol pondok pesantren hidayaturrahman sukra camat sukratujuan giat kuat sinergi polisi masyarakat fahri detikjabar jumat scroll to continue with content di sisi rangka cooling system operasi mantap brata lodaya polres indramayu ajak lapis masyarakat jaga situasi aman kondusif laksana pesta demokrasi edukasi masif masyarakat hindar polarisasi konflik sosialmari jaga situasi wilayah hukum polres indramayu kondusif fahri santri urus giat silaturahmi fahri harap erat hubung polisi masyarakat cipta kondisi aman tingkat partisipasi aktif masyarakat jaga aman wilayah hukum polres indramayuselain ajak jaga kondusifitas polisi bagi bantu sosial ratus paket sembako paket sembako ponpes datang\n",
      "menteri agama jabat ketua tum gp ansor yaqut cholil coumas gp ansor tentu pilih pilpres buka pilih tersebuthal buka acara juara nasional wing chun uin walisongo semarang jumat acara instruksi pilpres hati patah semangat menteri agama hadir rakernas wing chun insyaallah datang presiden republik indonesia pilih presiden presiden salah pilih yaqut sambut scroll to continue with content tanya sambut gus yaqut sebut hadir salah pilih turut salah pilih presiden indonesia hadiriya bilang menteri agama rakernas presiden pilih milihnya presiden yaqut awak mediagus yaqut pukul gong delapan kali acara kode dukung capres gus yaqut biar masyarakat menafsirkanemang delapan kali kode salah pasang ya serah tafsir diayaqut instruksi pilih presiden laku gp anshor gus yaqut gp anshor tentu pilihankalau ansor wawancara pas acara ansor putus dukung pilih presiden ujarnyanamun enggan buka putus pilih acara wing chun\n",
      "calon presiden bacapres ganjar pranowo ungkap sama mahfud md pasang pilpres ganjar aku mahfud anti korupsisatu dua anti korupsi suka perintah bersih pengin perintah layan masyarakat mesti dorong ganjar temu rawan masyarakat desa aras kabu deli serdang jumat ganjar sosok mahfud md orang bagi turut kenal mahfud mantan gubernur jawa aku syukur pasang mahfud scroll to continue with content maka kenal mahfud dpr ri alhamdulillah pimpin partai pdip p hanura perindo rawan gerak pimpin putus ganjar pasang mahfud md ujarnyaalhamdulillah ganjar mahfud md asal masyarakat rangkak tambahnyadalam sambut ganjar masyarakat hina beda pilih milu ajak menghargaikalaulah kenan situasi politik olok olok hina caci kaki biar adu domba paslon paslon paslon reputasi insyaallah orang orang pilih hebat hebat hormat tugas cela konsentrasi menang ganjar pranowo pungkas\n",
      "bacawapres mahfud md bekal lembaga saksi milu dpw p jawa timur mahfud kader p jatim turun masyarakat simpati rakyatkader p jatim ya kerja keras kompetitif pesan ya kerja level insyaallah optimal mahfud narasumber bimbing teknis lembaga saksi milu p jawa timur surabaya jumat malammahfud kader p turun sosial lupa kader p meta segmen pilih scroll to continue with content bagaimana p menang ya sosialisasi kampanye segmen pilih selera turun kampanye spanduk baliho antar turun suara lapang rebut suara partai katanyakarena lembaga saksi lupa jaga suara tps tambahnyamahfud p bangkit kader keras tawar visi misi calon pemilihhasil milu kemarin p kritis kursi pas pas hilang nggak masuk parlemen kerja keras turun insyaallah suara p jelasnyasekarang kaum milenial tawar milenial cenderung praktis tangkap pesan dengar dalil konsep simpel nilai substansi bahasa bahasa rakyat visi misi susun tambahnyamahfud p partai nasionalis religus p fokus serius garap basis utama basis religiussementara ketua dpw p jatim mundjidah wahab saksi p tempur pileg insyaallah tempur p bangkit p jatim insya allah dapil kursi minimal mundjidah damping bendahara p jatim agus mashuri\n",
      "kelompok masyarakat jawa jateng dukung calon presiden calon wakil presiden prabowo subianto gibran rakabuming raka pilpres nilai pasang koalisi indonesia maju kim sosok lanjut pimpin presiden joko widodo jokowimendukung capres prabowo subianto cawapres gibran rakabuming raka terus pimpin presiden jokowi wakil presiden ma ruf amin periode ketua koordinator tokoh masyarakat jawa fajar ari sugiyanto terang jumat tokoh masyarakat deklarasi unsur ketua rt rw karang taruna pkk majelis taklim pokdarwis lembaga desa desa jateng tokoh masyarakat hadir kompak pakai kaus putih tulis wayahe prabowo gibran kolaborasi generasi terus indonesia maju scroll to continue with content prabowo gibran nilai pasang terus program pro rakyat inisiasi jokowi deklarasi tokoh simbol coblos surat suara prabowo gibranmendukung program program presiden jokowi lanjut pasang prabowo subianto gibran rakabuming raka wujud indonesia maju indonesia emas fajarmenurutnya prabowo gibran pasang tekad bangun indonesia tingkat libat unsur rt rw karang taruna pkk majelis taklim pokdarwis lembaga indonesia jawa bangun indonesia solid meratatidak bangun indonesia tingkat rt rw turut prabowo gibran sosok pimpin peduli program sehat salah satu turun stunting perhati jokowidia deklarasi dukung sepenuh hati menang prabowo gibran pilpres turut prabowo gibran pimpin bawa indonesia datangkami unsur tugas warga jawa gerak menang capres prabowo subianto cawapres gibran rakabuming raka guyub rukun sesuai prinsip pancasila uud nkri\n",
      "polres malang gencar jaga sinergi kerjasama jaga kondufisitas milu polwan lingkung polres malang kunjung kpu bawaslu kabupaten malangkunjungan pimpin kasat lantas polres malang akp agnis juwita tuju kuat hubung polres malang selenggara milu cipta lingkung kondusif tahap pesta demokrasi agnis hadir polres malang unsur aman harap kontribusi positif cipta aman tertib proses demokrasi milu scroll to continue with content kami komitmen kpu bawaslu instansi kait sukses laksana milu aman damai demokratis agnis wartawan jumat agnis tekan kerja polres malang kpu bawaslu kabupaten malang awal jalan milu netral adil jujur transparankami dukung penuh lancar tahap milu jaga aman tertib masyarakat proses tegasnyadalam sempat agnis pamit pindah tugas polda sumatera utaraagnis terima kasih kerjasama jalin tugas polres malangsemoga kerjasama lanjut agnissementara tanggung publikasi kpu kabupaten malang isnawan ardiansyah sambut kunjung apresiasi komitmen polres malang dukung lancar proses pemilupihaknya terima kasih peran aktif polres malang cipta situasi kondusif tahap pemilukami harap sinergi tingkat capai tuju isnawankunjungan silaturahmi harap hubung jalin polres malang kpu bawaslu kabupaten malang tingkat dukung hasil laksana milu transparan demokratis\n",
      "acara otto hasibuan didapuk wakil ketua tim kampanye nasional tkn prabowo subianto gibran rakabuming raka pilpres alas otto gabung tkn prabowo gibranpokoknya timbang matang putus doa otto hasibuan wartawan acara doa jessica mala wongso grand sahid jaya jakarta pusat jumat otto capres ganjar pranowo anies baswedan prabowo subianto sahabat baik aku dukung prabowo scroll to continue with content tiga tiga sahabat tiga sahabat ganjar sahabat temen sekolah anies sahabat prabowo sahabat ya arti soal dukung prabowo terang hati susah sebenernya ujarnyadia setia dukung prabowo subianto putus bantu menang prabowo tkn turut prabowo pimpin indonesiatapi setia dukung prabowo lihat orang firm beliau pimpin negara bantu ujarnyaselain otto anggota komisi i dpr ri hinca pandjaitan cocok ketua bidang hukum tkn prabowo gibran sebut hinca milik kapasitas bidang tersebutcocok banget hinca pandjaitan pintar orang semangat sesuai kapasitas ottolebih otto aku bidang tangan wakil ketua tkn prabowo gibran enggan sebut ajak gabung tknsaya wakil ketua nggak bagi tugas bidang bawah lanjutnyasimak video tkn singkat prabowo gibran umum november gambasvideo detik\n",
      "inter mil segel tiket liga champions laga sisa gembira capai bos inter steven zhang bonus timinter lolos fase knockout menang red bull salzburg kamis wib nerazzurri menang berkat gol lautaro martinezinter real sociedad tim grup d lolos babak pasu simone inzaghi kumpul poin tanding scroll to continue with content inter kalah laga liga champions catat menang hasil imbangini kali inter lolos fase knockout liga champions tanding sisa inter musim lapor gazzetta dello sport steven zhang telepon skuad inter menang rb salzburg selamat lautaro martinez dkk sukses lolos babak besarzhang kabar bonus juta euro rp miliar skuad inter sukses capai target musim inisudah lolos fase knockout liga champions inter mil alih fokus buru scudetto la beneamata puncak klasemen liga italia poin unggul poin juventus\n",
      "calon wakil presiden cawapres gibran rakabuming raka kunjung palembang sumatera selatan sumsel minggu gibran temu koalisi wakil anak muda bumi sriwijayaterkait datang gibran ketua dpd gerinda sumsel kartika sandra desi benar sosok akrab sapa cici golkar pic datang gibraniya palembang golkar pic nya hubung detiksumbagsel jumat scroll to continue with content cici agenda jalan gibran kota pempek agenda utama temu koalisi anak muda giat pusat jakabaringtanggal november minggu acara pusat jakabaring temu koalisi acara anak muda politis jabat wakil ketua dprd sumsel inikata cici sambut datang gibran palembang rapat koordinasi koalisi tim kampanye nasional tkn l tim kampanye daerah tkdkoordinasi rapat rapat koalisi tkn tkd ungkapnyahal nada ketua dpd partai golkar sumsel bobby adhityo rizaldi bobby gibran palembang minggu november kunjung lampungtanggal palembang november gibran lampung terangnyadia bandara internasional smb ii palembang gibran langsung jakabaring sport center jsc temu koalisi indonesia maju kim caleg parpoldari bandara langsung jsc hadir rapat konsolidasi kim serta caleg parpol dukung telah beliau langsung bangka belitung bobby\n",
      "jual sepeda motor alami tingkat januari oktober juta unit motor jual indonesiaberdasarkan data asosiasi industri sepeda motor indonesia aisi jual motor periode januari oktober catat unit angka periode catat jutabulan oktober jual motor alami tingkat aisi catat jual sepeda motor capai unit angka september unit scroll to continue with content jual sepeda motor indonesia dominasi motor jenis skuter matik skutik skutik sumbang jual persen motor sport isi posisi persen motor bebek sumbang sendi sisi ekspor sepeda motor indonesia turun banding ekspor motor tembus ribu unit oktober ekspor motor catat unit september capai ribu unit aisi catat ekspor motor capai unitsementara aisi target juta unit sepeda motor roda jual menteri industri agus gumiwang kartasasmita tantang industri sepeda motor genjot ekspornyatarget jual domestik capai juta tantang men challenge ekspor tara unit lepas lemah daya beli market global harap ekspor sepeda motor indonesia dorong industri sepeda motor sektor ice baterai pahlawan agus\n",
      "mobil pajero sport putih nomor polisi a rs balik hantam batas jalan tol tangerang merak kemudi kaget salip kendara pindah lajurperistiwa wib jumat kemudi widodo jalan arah jakarta cilegonpengemudi pajero gerbang tol cilegon timur pindah lajur polisi mobil salip scroll to continue with content kendara arah jaya jakarta cilegon timur ciltim kendara jalan lajur tkp terang kemudi gt ciltim potong kendara nihil identitas kabur kasat pjr induk serang timur kompol wiratnowiratno kemudi pajero hilang kendali tabrak batas jalan mobil terbalikpengemudi kejut antisipasi tabrak batas rambu tunjuk arah balik katanyatak korban jiwa celaka kemudi pajero alami luka ringan bawa rumah sakit perawatansimak mobil pamer lepas kendali serempet unjung mal semarang gambasvideo detik\n",
      "lamborghini mobil performa kesan agresif aspal jalan lamborghini pusat perhati guna jalan sidoarjo lamborghini laju muka air sungai kali poronglamborghini super water car kendara arena wisata seven point jetski dusun bangunsari desa kalisogo camat jabon mobil lamborghini warna biru parkir alir kali porongowner sevent point jetski wedha dwiadi purbianto super water car lamborghini lamborghini tahap sempurna scroll to continue with content nanti sarana lengkap wisata jetski wedha lokasi seven point jetski jabon jumat wedha aku lamborghini kendara air satu kali indonesia negeri amerika super water car tersediawater car kali indonesia ya wedhasementara mahandika bayu aji sang buat super water car lamborghini versi air milik postur persis asli banding banding berkat printing d pakailamborghini versi air mesin boat pk upgrade mobil air cepat mil jam kilometer jam bayu seven jetskilulusan smp kabupaten malang aku super water car tahap sempurna lambung kapalmobil air full fiber glass wisata duduk tumpang bayuselain versi air bayu replika super car darat jual replika supercar kirim jakarta magelang sumateradapur pacu mesin sedan minimal cc gerak roda ubah roda kaki kaki sesuai imbuh bayuuntuk replika supercar bayu butuh cat ekspor replika supercar nya amerika serikatada pesan usa bayusementara faizal salah nikmat jetski ragu kendara super water car anggap lazim coba aku mengasyikkanternyata stabil ketimbang jetski mobil sport sungguh ukuranya versi air cepat beda faisal\n",
      "atlet usia belia savero althaf rusli dermawan sabet medali wakil indonesia ajang daya internasional usia savero tanding asia open memory championship aomc ada filipinatak tanggung tanggung savero atlet memori muda wakil indonesia kompetisi siswa sd islam tugas jakarta bawa pulang medali perak perunggu kategori kids usia tahunbercerita detikedu jumat dodi rusli dermawan ayah savero putra milik sifat unik cerdas suka ingat scroll to continue with content betul senang hafal senang anak tahfiz biasa kalo tahfiz ya dodiselain savero giat les bahasa asing bahasa prancisayah savero cerita anak kali kecimpung bidang pandemi covid orang tua savero cari cari giat positif anak temu lembaga latih nama ingat gajah naung indonesia memory sport council imscdi situ trial anak suka anak suka suka gitu doditerkait latih khusus memori savero pekan latih ingat gajah ikut kompetisi internasional filipina latih tambah saing berat negarasementara savero latih rumah sistem berlatihsaya orang tua istri ya latih dodipulang sekolah les jam malam latih jam malam kadang kadang saking semangat besok pagi sekolah ungkapnyasavero latih grand master memori yudi lesmana indonesia memory sport council imsc ikut aomc siswa hobi renang ikut kompetisi kompetisi lainnyajadi kompetisi daya memori speed numbers speed card random numbers angka cepat spoken bahasa inggris gitu terang dodiawal savero ikut aomc juara kompetisi indonesiasavero wakil indonesiaumurnya kategori kids umur dodijadi anak si savero kompetisi anak atas ya indonesia imbuhnyaberikut medali hasil savero kalung kompetisi asia open memory championship\n",
      "rekrut psim jogja kim bong jin augusto neto potensi turun kas hartadi hadap pskc cimahi putar liga kim bong jin augusto neto rekrut baru psim jogja paruh bursa transfer liga tampil main asing tunggu tunggu gemar laskar mataram kalah bekas city senin laga senin kim gagal turun kendala kitas kartu izin tinggal batas tahap urus neto gabung tim scroll to continue with content adapun laga lawan psck senin kas hartadi bocor turun kim bong jin augusto neto kondisi neto latih perdana psim progresif sport center bandungkondisi neto bagus kemarin pas latih kas hubung detikjogja via whatsapp jumat kas turun kim neto laga lawan pskc turun main berkonsulitasi manajemenkondisi bagus tampil manajer takut kayak kemarin kim turun latih lahir solo itukalau kondisi fit h turun dua kim neto sambungnyakas hartadi harap tanding lawan pskc raih menang target pria genap usia itutarget sih poin penuh menang pungkas kas hartadi\n",
      "rasmus hojlund sinar cetak gol laga manchester united liga champions atalanta sesal lepas striker denmark tersebutkami lepas hojlund harga bangga kolaborator layar temu talenta direktur atalanta luca percassi sky sport italia jelang laga tim lawan sturm graz liga europa kamis malam mantan klub hojlundkami asal mentalitas ubah percassi scroll to continue with content hojlund musim bela atalanta beli mu harga juta pound plus bonus musim panas bergamo tahun la dea keluar juta euro tebus sturm grazsejauh performa hojlund bilang lumayan suporter mu harap cetak gol premier league turun delapan kali tujuh starter temu luton town liga inggris sabtu wib pecah telur liga inggris mari nanti\n",
      "moge motor gede kendara motor kapasitas mesin cc kenal performa desain pukau moge tampil eksklusif canggih tawar alam kendara beda motor konvensionallantas motor gede murah harga juta simak jawab artikel iniberikut pilih motor gede moge murah juta lengkap spesifikasi scroll to continue with content classic milik desain inspirasi kendara inggris pasca perang tangki bahan bakar bentuk tetes air mata lampu tempat casquette royal enfield klasikroyal enfield luncur model baru classic september baru segi tampil performaspesifikasi classic cakup mesin silinder tunggal dingin oli udara cc tenaga bhp rpm torsi nm rpm rangka twin downtube spine frame suspensi jenis telescopic mm forks suspensi twin tube emulsion shock absorbersroda spoke wheel ukur roda spoke wheel ukur sistem rem abs dual channel motor sedia varian kombinasi warnaharga motor jual indonesia harga rp jutakapasitas mesin cc tenaga maksimal hp torsi maksimal capai nm motor sistem gerak rantai milik jenis kopling wet multi platesistem dingin dingin cair kapasitas tangki bahan bakar lfitur selamat liput rem cakram anggap handal fitur teknologi api digital sistem bahan bakar injeksi kendali performa maksimalharganya kisar rp juta rp juta gantung varian rilis varian murah ninja sl temu harga rp jutakawasaki ninja zx r moge cc silinder luncur indonesia juli tenaga motor milik mesin liquid cooled stroke in line four volume silinder cc daya maksimum hpspesifikasi lengkap zx r liput teknologi manajemen mesin sasis assist slipper clutch economical riding indicator electronic throttle valves lainnyadengan rangka trellis high tensile steel suspensi inverted fork sff bp suspensi horizontal back link zx r performa nyaman kendara optimalharga kisar rp juta tipe full spec capai rp jutasuzuki bandit gsf moge mesin silinder dohc kapasitas cc motor golong langka indonesia motor bekas mudah temu produksi motor hasil tenaga hp putar mesin rpm torsi nm putar mesin rpm lengkap transmisi gigi suzuki bandit gsf tawar performa handalmeski milik kapasitas mesin cc bandit gsf pamer gaya agresif kuda besi sport sejati motor luncur trek gunung trek balapharga suzuki bandit gsf kisar rp jutaanyamaha r milik spesifikasi mesin cc langkah silinder dingin cair daya maksimum ps rpm torsi maksimum nm rpm lengkap transmisi cepat sistem rem cakram belakangyamaha r connected hadir opsi warna aggressive grey motor tawar pilih warna racing blue midnight black motor lengkap suspensi upside down mesin cc sohc katup vva dingin cairanfitur fitur y connect assist and slipper clutch desain usung konsep generasi baru r series buat tarik gemar motor sportharga motor yamaha r rp jutakawasaki er n rancang motor segmen favorit rider sadel rendah bobot ringan mudah kendali commuter motor saji gera gesit konsumsi bahan bakar hematkelebihan er n sorot postur duduk nyaman kendara asia badan cm cm tampil macho ala performa mesin jadi pilih hemat motor ccnamun lemah bobot berat banding tenaga mesin silinder cc hasil tenaga suara meyakinkankelebihan er n milik bobot berat tenaga akselerasi cepat alam kendara memuaskandidukung mesin cc dingin cair transmisi cepat versi bekas moge temu harga rp juta rp jutakaisar ruby v produsen otomotif lokal tawar motor jangkau mesin kualitas fitur canggih buat tonjol pasaranspesifikasi kaisar ruby v cakup mesin v twin cc dimensi desain cruiser harley davidson fitur simpan barang bagasi mesin v twin cipta tampil davidson sama harley davidson jalanspesifikasi teknis cakup dimensi x x mm berat kosong kg transmisi cepat sistem api cd ac daya maksimum kw rpmsuspensi teleskopik suspensi lengan ayun redam kejut ganda sistem rem lengkap disk double piston belakangmeskipun produksi kaisar ruby v cari harga rp jutaanhonda cbsf moge milik kualitas sejajar moge kelas dukung mesin silinder dohc kapasitas cc motor akselerasi mantap daya hp rpm torsi nm rpmtampilan garang lampu bulat instrumen klaster model gendang tangki tanda identitas cbsf desain jok tandem buntut runcing sentuh retrosuspensi teleskopik suspensi model ganda lengan ayun aluminium tawar sesuai beban sistem rem optimal rem cakram ganda roda rem cakram kaliper silinder lengkap abs rodadengan harga rp juta motor bekas honda cbsf kombinasi performa nilai baikdemikian pilih motor gede moge harga juta banyak moge bekas juta gari tampil unik langka moga manfaat\n",
      "hujan serta angin kencang landa kota mataram lombok barat nusa tenggara barat ntb petang akibat sembilan pohon tumbang mobil lapor tertimpakapolsek narmada kompol kadek metria peristiwa pohon tumbang wita titik lokasi pohon tumbang sanaada titik spbu das reng tujuh pohon leseh gerimak indah pohon kadek terang kamis malam scroll to continue with content turut kadek sembilan pohon tumbang tutup akses jalan protokol arah mataram lombok barat lintas macet halang pohon tumbang badan jalanpohon tumbang timpa mobil warga mobil carry pajero sport kondisi mobil rusak parahmenurut kadek sebab pohon tumbang angin kencang hujan landa kota mataram lombok baratsampai personel polsek bpbd kota mataram bersih pohon tumbang pungkas\n",
      "malam bring me the horizon bmth gelar konser total konser ancol jakarta utara sayang henti manggung konserravel promotor konser bring me the horizon ravel entertainment jelas grup band henti acara konser scroll to continue with content hal ravel panggung konser bring me the horizon beach city international stadium ancol jakarta utara ravel utara minta maaf panggungsaya mohon maaf maki maki nggak lempar nggak show kali coba bandnnya ravel jumat malampermasalahannya usaha baik malam maaf besar dalam dalam nggak lanjut sambung lagisebelum henti bring me the horizon bawa lagu promotor panggung tonton istirahat sejenakteman teman break sebentar biar bmth istirahat selesai beber ravel panggungtapi tunggu menit konser lanjut ravel panggung minta maaf tutur ravel panggung bring me the horizon stage stop show nya malam ravel nasib konser bmth gelar sabtu detikcom usaha jelas promotor respons\n",
      "lagu hilang bilang milik meiska hasil tembus angka fantastis juta streams spotify lagu ballad rilis oktober hasil tahan tangga lagu bulanlagu hilang bilang cerita jatuh cinta sayang asa kasmaran pupus orang dekat dadak jauh hilang fenomena kerap ghostinglagu hasil relate dengar angkat tema universal alami orang lirik lagu pedih sayat hati daya tarik sendiri dengar scroll to continue with content tanggap sukses lagu meiska aku senang syukur harap lagu wakil asa dengar tinggal orang disayangpastinya happy banget lagu cocok wakil asa dengar harap lagu wakil hati nggak tinggal orang sayang ujarnyanggak ekspek juta dengar terimakasih dengar lagu terima kasih sony music entertainment indonesia beri sempat nyanyi lagu hilang bilang lanjutnyasementara meiska proses kejut dengar gemar enjoy orang orang dengar lagu hilang bilang\n",
      "rilis lagu wannabe itzy track populer grup jyp entertainment amerika serikat bukti capai wannabe resmi sertifikasi gold emas riia recording industry association of americasertifikasi gold riia artis hasil capai angka ribu unit jual angka kombinasi jual album fisik streaming on demand stream bayar platform riia label amerika serikatselain riia timbang total tonton video klip resmi lagu sertifikasi mengikutsertakan konten konten fans kait lagu sebut scroll to continue with content itzy hasil raih sertifikasi gold riia tanggal november nama itzy mejeng raih award sertifikasi gold situs riia gambasyoutube wannabe lagu itzy raih sertifikasi emas riia selang rilis grup k pop sertifikasi riia bts txt stray kidsrekan jyp entertainment itzy stray kids pegang sertifikasi gold riia stray kids sukses lampau angka jual unit album star rilis single god s menu rilis itzy comeback album kill my doubt musim panas mv comeback lagu cake lagu utama b side album judul bet on me none of my businessbeberapa selang promo album lia itzy umum hiatus alami sehat pilih rehat pulih\n",
      "pk entertainment promotor konser coldplay jakarta imbau tonton saksi sang idola tonton imbau inap stadion utama gelora karno sugbk jelang konser coldplaypenonton imbau inap venue jelang konser tera pandu acarapenonton pasuk pre function area wib pegang tiket ultimate experience nikmat fasilitas saksi backstage konser wib scroll to continue with content lebih pintu masuk venue stadion utama gbk buka wib milik tiket ultimate experience my universe kategori pintu buka wibkabid humas polda metro jaya kombes trunoyudo wisnu andiko venue konser aman lancar koordinasi stakeholder kait pengamanankita sinergi kooperatif tni stakeholder kait giat masyarakat laku aman trunoyudo inidiketahui siap konser coldplay promotor mes gbk minggu persiapanadapun konser laksana november sedia kisar ribu tonton promotor aman nyaman tonton\n",
      "konser coldplay jakarta gelar november jam konser band inggris penjelasannyakonser coldplay jakarta gelar stadion utama gelora karno sugbk pk entertainment promotor teknis kait konser jadwal konserpada konser jakarta coldplay tampil wib rencana bawa lagu konser konser buka tampil rahmania astrini scroll to continue with content lansir detikhot pandu promotor tonton larang bawa barang konser chris martin cs aman nyaman tonton sang artisbeberapa barang larang bawa saksi konser kamera profesional tongsis alat musik drone botol kaca kaleng rokok vape minum alkohol senjata tajam tas ukur apada konser promotor sedia pintu masuk tonton butuh khusus guna kursi roda pakai kruk perempuan hamil damping kru promotorlalu pegang tiket ultimate experience nikmat fasilitas saksi backstage konser wiblebih pintu masuk venue stadion utama gbk buka wib milik tiket ultimate experience my universe kategori pintu buka wib\n",
      "piala dunia u edisi gelar november desember solo lokasi nonton bareng nobarya suporter tonton sembarang saksi lisensi kantong izin tayang piala dunia u sayang jadi nobar solo selenggara nobar daftar pegang hak siar indonesia entertainment group ieg bayar izin tayang scroll to continue with content ikut resmi nobar piala dunia u solo lansir laman resmi https wiegid nobarthe park mall solo letak jalan ir soekarno dusun ii madegondo grogol sukoharjo the park mall satu mall jawa lisensithe park mall solo ada nonton live streaming gratis pesan tiket langsung menyaksikannamun the park mall solo sebut nobar nonton live streaming the park siar tanding piala dunia u siar tanding timnas indonesiauntuk sebut nobar ya nonton live streaming christina tri mawarti pr public realtion tr supervisor the park mall rabu kali siar jelasnyaadapun jadwal central park the park mall berikuthal benar ieg ada nobar piala dunia u the park mall solo tanggal mendatanguntuk ada pildun u the park solo ya kak nobar tanggal esok admin sportshub ieg hubung tim detikjateng kamis the park solo partner kerjasama kak tambahnyacold n brew hadir solo jadi nobar piala dunia u cabar cold n brew menyiarkannyadiketahui cold n brew letak fajar indah jalan adi sucipto no jajar laweyan menyiarkannyacold n brew fajar indah ada nobar syarat first drink charge masuk venue nobar first drink charge tonton beli minimal laku mineral waterminimal beli rp ribu minum dilema iced kopi susu gula arenmekanismenya langsung syarat first drink charge masuk venue nobar bebas pilih beli minimal laku mineral water ya kak uchie public relation officer cold n brew hubung tim detikjateng kamis simak lengkap halaman\n",
      "konser coldplay jakarta tinggal hitung siap gelar konser band inggris itupk entertainment promotor informasi kait pandu konser gelar stadion utama gelora karno sugbk november coldplay tampil wib rencana bawa lagu konser itu scroll to continue with content belum konser buka tampil rahmania astrinibeberapa pandu promotor tonton larang bawa barang konser chris martin cs aman nyaman tonton sang artisbeberapa barang larang bawa saksi konser kamera profesional tongsis alat musik drone botol kaca kaleng rokok vape minum alkohol senjata tajam tas ukur alebih konser promotor sedia pintu masuk tonton butuh khusus guna kursi roda pakai kruk perempuan hamil damping kru promotorlalu pegang tiket ultimate experience nikmat fasilitas saksi backstage konser wiblebih pintu masuk venue stadion utama gbk buka wib milik tiket ultimate experience my universe kategori pintu buka wib\n",
      "yg entertainment resmi tanggal debut girlband baru babymonster jumat malam korea teaser debut babymonster unggah media sosial resmi girlband tersebutteaser poster tampil jalan aspal tanda garis warna merah nama babymonster pajang tulis warna putih ikut tanggal rilis bawah yg entertainment debut babymonster rilis november malam korea scroll to continue with content gambastwitter debut babymonster tunda rencana september ungkap alas molor debut grup adik blackpink itudalam nyata yg entertainment mundur tanggal debut babymonster pilih lagu debut manajemen gegabah putus track debut grup bungsunyakami teliti pilih lagu debut babymonster harap saji hasil baik media kutip selasa rendah hati erti hubung tunda rencana debut september proses manajemensebelumnya babymonster rilis single pre debut judul dream selesai acara audisi pre debut batas konten youtube keluar manajemenbabymonster anggota tujuh member ahyeon ruka chiquita haram pharita rora asa chiquita member thailand personel muda babymonster usia injak susul rora korea usia tahunharam ahyeon member babymonster korea usia asa salah personel jepang usia susul pharita thailand usia ruka personel babymonster tua jepang usia\n",
      "aktor dallas pratama alami pecah buluh darah koma koma dallas pratama lewat pulih imbas hidup dunia entertainment dallas pratama terima kondisi alami amnesia koma mampu otak dallas pratama dulukarena entertainment bikin kesal banget menghapal halaman skrip aja banget nggak titik berat main dallas pratama studio rumpi no secret transmedia jakarta selatan scroll to continue with content dalam proses pulih dallas pratama aku harta cuci kepala keluarga tanggung kondisi pulih cari kerja barusempat driver online siuman insurance cover alhamdulillah cair gedein anak istri ngapain ni bu booming taksi online beli mobil deh tuturnyaawalnya dallas pratama pakai tenaga orang operasi mobil sang istri momen dallas pratama latih gerak tubuh motorik temu orangsampai percaya kerja usaha start up dallas pratama terima nyata kena phk pandemi covid proses bawa ubah hidup bintang film serigala dallas pratama aku kenal tuhandulu nggak kenal cipta tahu duit sang khalik udah manggil balik telapak tangan kejap hilang harta dallas pratamasekarang salat puasa aja senin kamis ramadhan alhamdulillah udah anak nggak contoh alam salah nggak turun anak ubah tunjuk sambungnyadallas pratama aku malu tato tubuh sang istri kadhita ayu hijrah pakai hijab menikahbadan gambar tempel udah malu dallas pratamauntungnya support system keluarga nggak orang habis pakai hijab coba dahsyat kayak alhamduliilah lingkung bikin merosot bikin kuat kadhita ayu istri dallas pratama\n",
      "oktober cube entertainment umum rencana debut boyband rencana boyband membernya rahasia debut muncul kabar trainee debut eks manajemen btob boyband nantitrainee kim hyun bin sosok dunia hibur korea selatan tampil kontestan acara survival mnet produce x kutip sumber jumat kim hyun bin santer kabar masuk line up debut boyband cubecube entertainment keluar nyata ini scroll to continue with content kim hyun bin dulunya naung manajemen source music produce x manajemen januari gabung wm entertainment tahun wm entertainment naung cubesoal boyband cube entertainment proses produksi proses syuting mv grup inggrissementara bocor nama grup formasi membernya cube konten bagi fans promosi debut grup baru itucube entertainment kenal grup grup mute btob btob grup cowok cube debut btob pentagon debut jalan karier grup mudah keluar salah member sorot yeo one yanan yuto kino wooseok panjang kontrak cube entertainment susul hongseok putus batal kontrak manajemen\n",
      "ketua dpp pdip ahmad basarah sebut gibran rakabuming raka bangkang wali kota solo buka suara merespon ucap basarah itu ya monggo biar beliau nilai gibran minggu dia status pdip puan maharani ketemu mbak puan ujar advertisement scroll to resume content ucap basarah calon gibran calon wakil presiden milu gibran kader pdip maju pasang prabowo subianto basarah milik atur partai gibran tegak lurus arah ketua pdip megawti soekarnoputri calon presiden wakil presiden usung dalam partai atur main negara warga negara indonesia ikat sepakat sepakat bangsa rule of game masyarakat bangsa negara basarah wartawan sekolah kader pdip lenteng agung jakarta selatan sabtu maka kader kader pdip kelas mas gibran mandat partai mandat rakyat kota solo wali kota solo beliau salah elite pdip tambah lansir detikcom gibran yakin paham anggar dasar pdip putra joko widodo jokowi sebut bangkang maka konstitusi partai atur partai bangkang beda garis putus partai hukum etika politik mas gibran ambil putus garis putus politik pilpres calon calon wakil presiden basarah\n",
      "nama gibran rakabuming raka umum damping prabowo subianto pilih presiden calon orang senang bahkan menteri koordinator bidang maritim investasi menko marves luhut binsar pandjaitan bicara calon respon masyarakat pasang optimis ragu tapi lumrah negara demokrasi indonesia warga dapat beda beda harap beda dapat penuh adab caci maki ujar fitnah dasar kutip laman instagram pibadinya luhutpandjaitan advertisement scroll to resume content luhut cerita alam politik indonesia putus timbang dalam putus prabowo gibran ketika deklarasi pasang capres cawapres gambar muncul benak simbiosis bijaksana energi padu sempurna ujar soal ragu contoh presiden joko widodo jokowi turut jokowi masuk dunia politik kali remeh hitung ragu orang putus pilih gibran cawapres prabowo sebut wajar putus niat maju indonesia sementara pasang prabowo gibran semangat satu kolaborasi sejarah indonesia saya tekan semangat rekonsiliasi contoh jokowi prabowo belah masyarakat milu kata saat luhut awat rumah sakit singapura aku pantau informasi kait pilpres selain prabowo gibran lupa pasang selamat menko polhukam mahfud md resmi damping ganjar pranowo calon wakil presiden cawapres selain luhut hormat pasang anies baswedan muhaimin iskandar turut orang berdisi garis start pilih\n",
      "sekretaris jenderal partai demokrasi indonesia juang pdip hasto kristiyanto curah isi hati partai gundah gulana susul manuver presiden joko widodo kait selenggara pilih padahal pdip istimewa jokowi mantan wali kota solo rasa tinggal partai lambang banteng besar nama sebut kami cinta privilege presiden jokowi keluarga tinggal minta potensi langgar pranata baik konstitusi hasto kutip cnn indonesia minggu advertisement scroll to resume content turut hasto doa khawatir anggota partai jadi hasto singgung kerja keras simpatisan anggota kader partai pilkada pilpres wujud sayang jokowi foto presiden joko widodo resmi bandar udara tawa kep tawa oktober tangkap layar youtube sekretariat presiden presiden joko widodo resmi bandar udara tawa kep tawa oktober tangkap layar youtube sekretariat presiden foto presiden joko widodo resmi bandar udara tawa kep tawa oktober tangkap layar youtube sekretariat presidenpresiden joko widodo resmi bandar udara tawa kep tawa oktober tangkap layar youtube sekretariat presiden namun butet kartaredjasa goenawan mohamad eep syaifullah hamid awaludin airlangga pribadi serta ahli hukum tata negara tokoh pro demokrasi gera civil society berani asa hasto apalagi tambah masuk putra sulung jokowi gibran rakabuming raka calon wakil presiden kubu lawan bangkang politik political disobedience konstitusi indonesia negeri spiritual moralitas nilai benar setia depan mata rantai calon mas gibran political disobedience konstitusi rakyat indonesia sebut semua padu rekayasa hukum mk terima aku ketua partai politik kartu truf nya pegang lifetime hari keras tekan kuasa\n",
      "analis politik universitas bakrie muhammad tri andika milik analisis beda putus kubu prabowo subianto mendapuk gibran rakabuming raka calon wakil presiden nilai faktor asa insecure prabowo dominan putus itu saya pilih gibran kait butuh dasar prabowo pilpres asa insecure prabowo dasar alam milu andika kutip minggu andika sebut pilih presiden empat kali prabowo laga pilih pimpin tingkat nasional prabowo laga calon wakil presiden calon presiden prabowo kalah momen milu sebut advertisement scroll to resume content andika sorot sorot prabowo kalah duga curang milu duga faktor picu khawatir prabowo foto pasang prabowo subianto gibran rakabuming raka daftar capres cawapres gedung kpu ri jakarta rabu reuters willy kurniawan pasang prabowo subianto gibran rakabuming raka daftar capres cawapres gedung kpu ri jakarta rabu reuters willy kurniawan foto pasang prabowo subianto gibran rakabuming raka daftar capres cawapres gedung kpu ri jakarta rabu reuters willy kurniawanpasangan prabowo subianto gibran rakabuming raka daftar capres cawapres gedung kpu ri jakarta rabu reuters willy kurniawan ini lihat sumber political insecurity prabowo dia turut andika khawatir alas utama prabowo koalisi usung gibran faktor aman nyaman proses milu anggap faktor kunci menang prabowo pilpres asa capai dukung presiden jokowi belah kecuali prabowo ini lihat faktor alam sadar prabowo premis heran aman nyaman proses milu faktor kunci menang prabowo pilpres andika dia jadi gibran cawapres risiko calon gibran bayang bayang tuduh politik dinasti duga kkn kait putus mahkamah konstitusi namun gibran opsi realistis taktis prabowo duga prabowo pilih gibran atas trauma pikir kait curang manipulasi milu belum bagi prabowo jadi gibran notabene putra presiden jokowi wapres jalan baik garansi politik hindar potensi curang penyalahgunaan aparat negara kerap hantu andika\n",
      "kaesang pangarep resmi masuk kader partai solidaritas indonesia psi pilih jalan beda sang ayang presiden joko widodo jokowi kader pdip putus kaesang jelang pilih presiden pilpres partai calon kader bentuk koalisi lantas dampak putus kaesang masuk psi jelang pilpres direktur eksekutif institute for democracy and strategic affairs indostrategic ahmad khoirul umam ungkap plus minus advertisement scroll to resume content turut kaesang poin plus psi konsolidasi wilayah jawa tengah selaku putra jokowi kaesang jadi political brand milik selling point mata loyalis pilih loyal joko widodo kutip detikcom minggu arti psi milik penetrasi pilih jawa indonesia timur basis loyalis jokowi ini peluang psi tingkat oleh kursi lolos parliamentary threshold persen umam kendati jalan mulus tantang loyalis jokowi pihak pdip jika psi penetrasi jawa migrasi pilih pdip psi potensi kanibalisme elektoral mesin politik pdip psi milik basis pilih umam umam sorot dekat psi prabowo psi dukung ganjar pranowo karena psi prabowo gabung kaesang psi tegas dukung jokowi pencapresan prabowo subianto tutur kepala departemen politik ubah sosial csis arya fernandes sebut kaesang sadar psi butuh vote getter kader utama pilih tinggal psi psi butuh vote getter psi vote getter pengaruh kaesang posisi strategis partai arya turut arya kaesang plot kepemiminan partai arya jabar tantang hadap kaesang psi kaesang gadang gadang maju calon walikota depok gabung partai non parlemen tantang sendiri kait kaesang maju walikota depok psi kursi terang arya dalam milu depok basis pks naik kursi kali lipat hadap pks depok mudah jadi situasi mudah tiket jalan suara psi kursi tingkat kali lipat berat kontestasi pdip gerindra pks\n",
      "perintah amerika ai ancam nyata tingkat disinformasi milu as depan gedung putih sebut konten edar gambar palsu tangkap donald trump video gambar dystopian pimpin joe biden mereka sebut pilih presiden hadap gelombang disinformasi dukung teknologi ai sebut milu ai amerika advertisement scroll to resume content dua kubu politik as manfaat alat alat canggih dukung cerdas buat pakar teknologi pandang pedang mata dua program ai kloning suara tokoh politik kejap video teks nyata pilih sulit paham benar fiksi hadir ai nilai rusak percaya proses milu pada kampanye cenderung teknologi tingkat efisiensi operasional analisis basis data pilih susun email galang dana buah video rilis juni kampanye presiden gubernur florida ron desantis mantan presiden trump rangkul anthony fauci target favorit partai republik pandemi virus corona periksa fakta afp temu video gambar hasil ai telah biden resmi umum calon partai republik april rilis video pandang hasil ai negara menang video gambar foto rekayasa realistis panik wall street invasi china taiwan gelombang imigran kuasa agen batas pengambilalihan san francisco militer jahat keri ai generatif ancam tingkat kampanye disinformasi online lembaga nirlaba freedom house lapor kutip afp jumat mereka ingat teknologi cemar nama lawan milu amerika serikat produksi disinformasi gambar audio teks hasil ai benar mudah diputarbalikkan sulit paham turut jajak dapat terbit grup media axios firma intelijen bisnis morning consult persen warga amerika bohong sebab ai dampak hasil milu sekitar tiga warga amerika percaya hasil milu ai dalam lingkung politik hiperpolarisasi amat ingat sentimen sentimen risiko picu marah publik proses milu lalu template ai mudah murah hadap klaim kampanye kontra klaim agam mampu batas beda materi palsu asli ketidakpastian mohon pengaruh milu darrell west brookings institution semua ubah berkat ai pada maju ai jadi sumber daya ubah main game changing paham pilih tren kampanye staf kampanye andal konsultan mahal kembang rencana jangkau habis jam jam susun pidato pokok bicara postingan media sosial ai kerja singkat tapi gar bawah potensi penyalahgunaan coba afp salah trump chatgpt hasil kampanye apik lengkap data dokumen salah sebut ketika afp dorong chatbot openai buletin sebar bohong nada apokaliptik pihak wenang usaha keras batas ai negara as minnesota keluar undang undang kriminalisasi deepfake tuju rugi kandidat politik pengaruh milu pada senin biden menandatangani perintah eksekutif ambisius promosi guna ai aman jamin percaya palsu dalam audio video hasil ai coreng reputasi sebar berita palsu tipu biden penandatanganan perintah sebut dia suara khawatir tipu rekam suara detik hasil audio deepfake saya tonton deep fake pikir\n",
      "juru bicara badan siber sandi negara bssn ariandi putra papar bentuk serang bssn temu salah satu kait insiden serang malware namun serang siber sifat sosial kait milu salah prioritas bssn fokus bssn kait kumpul informasi edar masyarakat target manusia orang orang rangka brain wash cuci otak tuju cipta chaos masyarakat advertisement scroll to resume content ada lihat propaganda hitam ariandi cyber security forum kamis ia bssn rajin identifikasi serang siber salah satu ip security assessment rutin menteri lembaga kpu tindak selenggara milu jalan damai tapi ip security assessment selesai baik rumah bocor bocor laku kala dia seperti data jenis kaya hadir harga minyak komoditi data ubah coba coba eksistensi kelompok motif ubah ekonomi dia bssn patroli investasi serang siber sifat teknis sosial salah satu national operational center\n",
      "logistik kotak suara tahap bilik suara tinta milu target selesai november jakarta cnbc indonesia faisal rahman\n",
      "sandiaga uno dengung calon wakil presiden cawapres prabowo subianto kabar sandiaga uno sosok kandidat kuat siapa sosok gibran rakabuming raka gibran anak presiden joko widodo kutip cnn indonesia anggota dewan bina partai gerindra andre rosiade sebut peluang gibran calon wakil presiden prabowo subianto gantung ketua pkb muhaimin iskandar alias cak imin andre rekan koalisi gerindra cak imin satu pegang golden ticket cawapres prabowo gerindra serah cak imin tiket serah lain advertisement scroll to resume content gus muhaimin golden tiket beliau serah orang serah beliau andre acara the political show cnn indonesia tv senin malam nama gibran wali kota solo putra presiden joko widodo masuk bursa cawapres prabowo temu sempat foto gibran rakabuming raka kiri temu prabowo subianto kanan dok tim media prabowo subianto gibran rakabuming raka kiri temu prabowo subianto kanan dok tim media prabowo subianto foto gibran rakabuming raka kiri temu prabowo subianto kanan dok tim media prabowo subiantogibran rakabuming raka kiri temu prabowo subianto kanan dok tim media prabowo subianto selain andre prabowo kali puji gibran calon pimpin usul cawapres tentu partai koalisi tapi detik hadir cawapres prabowo ya muhaimin iskandar dia wasekjen pkb syaiful huda tampik peluang gibran damping prabowo bahas internal partai pkb tunggu putus resmi mahkamah konstitusi gugat batas usia minimal capres cawapres dalam gugat gugat usia minimal capres cawapres turun gugat pintu gibran masuk bursa cawapres pilpres di bahas huda\n",
      "kerja rumah calon ganti presiden joko widodo salah satu atas timpang ekonomi masyarakat managing director political econony and policy studies anthony budiawan pesimis calon presiden selesai timpang masyarakat calon presiden nilai sandera program anthony capres pikir tumbuh ekonomi kurang timpang lengkap saksi dialog safrina nasution dekan fakultas ekonomi bisnis universitas indonesia teguh dartanto managing director political econony and policy studies anthony budiawan staf khusus wakil presiden ri gatot prio utomo head of cnbc indonesia research muhammad ma ruf program your money your vote cnbc indonesia rabu saksi live streaming program program cnbc indonesia tv\n",
      "indonesia milik waris budaya kaya seni bela tradisional kenal sebut silat silat seni bela indonesia abad abad integral identitas budaya bangsa ini jaga budaya silat indonesia alas lestari waris budaya industri seni bisnis dengan jaga silat generasi milik akses paham aspek budaya kaya agam ini advertisement scroll to resume content selain silat identitas nasional seni bela nilai nilai berani jujur kerjasama disiplin tekan sehingga tahan promosi silat kuat identitas nasional jaga uni budaya indonesia bagai kenal lestari silat kelompok ahli ilmu olahraga sekolah farmasi itb bekerjasama silat sunda institut ssi gelar giat edukasi sosialisasi ragam pencak silat waris budaya benda milik indonesia giat laksana september gedung gku institut teknologi bandung kampus jatinangor dukung lembaga teliti abdi masyarakat institut teknologi bandung lppm itb sasar giat giat pencak silat guru pjok insan olahraga lain giat kerjasama bagus kk ilmu olahraga sekolah farmasi itb ssi promosi olahraga itb tambah informasi wawas kait pencak silat dr apt muhamad insanu ssi msi h ahmad saefudin mm aifo itb gala sumber ilmu itb olahraga kembang ukur ukur ilmu sport science sport industry sport tourism khasanah olahraga gali aspek segi tradisional analogi pikir manfaat utama\n",
      "dokter ahli jantung usia milik nikmat umur panjang lansir cnbc make it ahli jantung usia nama reizo warga osaka jepang kakek gambar segar bugar milik usia abad turun rutinitas reizo hidup umur delapan rutinitasnya advertisement scroll to resume content rutin jalan pagi cucu si kakek mika cribbs cerita kakek nenek bangun pagi pagi jalan jalan lingkung rumah menit jam total ribu langkah kakek nenek manfaat jalan pagi penuh semangat cribbs rutin olahraga telah jalan kakek nenek cribbs lanjut aktivitas olahraga ringan regang latih kuat imbang turut cribbs kakek nenek milik latih beda hari olahraga pilih dasar mampu butuh aktif beban tubuh rawat hubung orang cinta telah olahraga kakek nenek cribbs sempat buka facebook instagram sosial keluarga media sosial tingkat sejahtera emosional buah studi temu isolasi sosial orang usia lansia sebab tingkat sepi kalang laki laki media sosial salah hindar sepi tulis sejak kakek sempat menit tulis pikir alam pandang blog milik ribu postingan cribbs nikmat seni karya selain tulis blog kakek usia ekspresi karya seni luk kakek seniman duduk gambar potret cribbs dia cermat gambar garis shading detail kakek paham lanjut eksplorasi hobi baru eksplorasi alam hobi anak muda lansia lama pandemi lansia osaka hobi kebun main alat musik bantu napas tel ajar terampil tualang baru rutin tidur siang dari aktivitas kakek nenek cribbs lewat tidur siang isi ulang energi tidur siang pagi sore hari sadar istirahat peran umur cribbs konsumsi makan enak salah rahasia umur bahagia orang jepang rasa nikmat hidup konsumsi makan enak daging keju minum anggur namun nenek saji makan sehat jenis sayur olah kari ala jepang cribbs masyarakat jepang kenal pegang konsep ikigai sense of purpose acu satu pedoman sehat bahagia penting temu tuju hidup kejar hati hati niat bahagia\n",
      "hadir wali kota gabung komisariat wilayah komwil i asosiasi perintah kota indonesia apeksi kota pematang siantar sumatera utara harap tingkat kolaborasi kepala daerah dar main sepak bola tingkat kerja daerah selesai wilayah masing hal wali kota medan bobby nasution ketua komwil i apeksi acara malam ramah tamah sambut wali kota tim sepak bola lihat kondisi butuh kerjasama kota salah satu sikap pangan tingkat sumber daya manusia sdm bobby siar pers minggu advertisement scroll to resume content di hadap unsur forkopimda kota pematang siantar tokoh adat tokoh masyarakat tokoh pemuda masyarakat hadir bobby kerja kolaborasi dukung wujud indonesia emas untuk mari buka peluang kerjasama kota wujud indonesia emas pungkas bobby belum wali kota pematang siantar susanti dewayani terima kasih bobby nasution ketua komwil i apeksi percaya kota pematang siantar tuan rumah laksana tanding sepakbola sahabat sebut terima kasih percaya kumpul mari jadi temu erat tali silaturahmi kolaborasi susanti dewayani dalam malam ramah tamah tunjuk seni tampil bentuk apresiasi hormat wali kota hadir acara mang adat simalungun damping wali kota pematang siantar susanti dewayani perangkat pakai adat simalungun pakai\n",
      "orang damba hidup sejahtera umur heran orang olahraga jaga pola makan biasa kendali emosi stres nyata orang orang umur temu jepang hidup capai usia centenarian selain umur masyarakat jepang kenal badan sehat kait gerak tubuh advertisement scroll to resume content rahasia umur masyarakat jepang ungkap buku populer judul ikigai the japanese secret to a long and happy life sang tulis hector garcia francesc miralles coba gerak tubuh anda pergi gym jam lari maraton tulis kutip cnbc internasional senin mereka centenarian jepang butuh gera aktivitas hari anda sebut radio tais latih menit orang wawancara tulis latih dekade sebut radio tais instruksi gera kali siar radio bahkan huni panti jompo kunjung dedikasi menit latih kursi roda garcia miralles gera intensitas rendah kelompok latih menit sekolah ajar kerja radio taiso angkat tangan kepala turun tangan gera lingkar gera dasar hidup modern habis hari angkat tangan telinga mereka hingga radio taiso udara pagi salah stasiun radio tua jepang nhk radio situs dedikasi latih sebut\n",
      "putra mahkota saudi mohammed bin salman heboh media sosial tanggap peduli tuduh perintah sportswashing jika sportwashing tingkat pdb sportswashing pimpin de facto saudi wawancara fox news tayang rabu malam saya peduli tumbuh pdb olahraga target tumbuh tambah sportswashing tindak individu perintah korporasi kelompok bersih reputasi landa skandal jelas ensikopedia britannica sportswashing gabung olahraga cuci harfiah arti sportswashing bersih jaga nama olahraga organisasi hak asasi manusia kritik bukti bijak negara sembunyi langgar hak asasi manusia lapis mahal akuisisi turnamen olahraga besar dia dar peduli minky worden direktur inisiatif global human rights watch nbc news dia dukung gagas cuci olahraga tutup langgar hak asasi manusia serius negara dengar petinggi bijak negara minky worden postingan situs media sosial x investasi tutup langgar asasi manusia serius bunuh ratus migran senjata penjara bela hak hak perempuan bunuh jurnalis untuk jamal khashoggi jurnalis saudi bunuh konsulat saudi istanbul temu intelijen as mohammed bin salman tuju bunuh sangkal perintah tindak agen agen jahat saudi grup nufc fans against sportswashing gemar tim sepak bola epl newcastle united memposting x mbs peduli tuduh sportswashing habis uang pr kerja pasu bot troll bungkam oposisi dana kaya negara arab saudi pif beli newcastle united harga juta amnesty international sebut pengambilalihan alat humas alih perhati catat buruk hak asasi manusia negara ini andrew feinstein aktivis tulis buku the shadow world inside the global arms trade tulis platform x mbs klaim peduli cuci olahraga harap oposisi bijak saudi mahal upaya cuci cuci misogini homofobia korupsi brutal buat marah cnbc internasional hubung menteri negeri saudi komentar putra mahkota tanggap wawancara langgar hak asasi manusia raja hukum buruk negara suka campur urus adil amat aktivis hak asasi manusia saudi tolak nyata kuasa absolut ubah undang undang gores pena megah sepak bola arab saudi liga pro arab saudi urut liga premier inggris urus keluar biaya transfer sepak bola belanja us miliar tara rp triliun kurs rp us keluar liga pro saudi habis main segi nilai oleh data situs data transfer transfermarkt nama nama beken cristiano ronaldo ngolo kante karim benzema neymar boyong arab saudi keluar saudi dominasi klub besar negara al ittihad al ahli al nassr al hilal juni mayoritas milik dana investasi publik negara pif dari klub nilai belanja besar dunia milik pif klub arab habis total dana transfer juta euro hasil pasu transfer juta euro data transfermarkt sementara satu klub sepak bola inggris unggul keluar klub saudi al hilal chelsea fc al hilal belanja bersih besar musim panas nila juta euro hasil pasu transfer juta euro namun tuduh giat hak asasi manusia sorot tindak keras sama beda dapat penjara aktivis politik pada agustus guru saudi usia jatuh hukum mati aktivitas youtube x kenal twitter anggap perintah lemah ancam negara saudi beberapa aktivis perempuan penjara hukum puluh postingan media sosial kritik undang undang raja amnesty international lapor arab saudi negara eksekusi tahun tinggi raja orang bunuh\n",
      "liga pro arab saudi urut liga premier inggris keluar biaya transfer sepak bola data situs data transfer transfermarkt angka keluar sepakat gagal bahkan minat masyarakat saudi beli klub ekspektasi keluar jangka signifikan sepak bola raja tingkat valuasi klub klub eropa bursa transfer sepak bola arab saudi tutup tanda belanja musim panas sejarah klub klub bas negara eksportir minyak besar dunia liga pro arab saudi urut liga premier inggris keluar biaya transfer sepak bola belanja us miliar tara rp triliun kurs rp us keluar liga pro saudi habis main segi nilai oleh data situs data transfer transfermarkt bahkan klub klub saudi keluar uang banding liga sepak bola dunia rekor kali liga keluar uang dominasi liga grup eropa tinggi nilai transfer sepakat gagal tawar lambat al ittihad bintang liverpool mohamed salah lapor nila juta euro keluar saudi dominasi klub besar negara al ittihad al ahli al nassr al hilal juni mayoritas milik dana investasi publik negara pif dari klub nilai belanja besar dunia milik pif klub arab habis total dana transfer juta euro hasil pasu transfer juta euro data transfermarkt sementara satu klub sepak bola inggris unggul keluar klub saudi al hilal chelsea fc al hilal belanja bersih besar musim panas nila juta euro hasil pasu transfer juta euro dorong rekor belanja pro liga saudi david faber gubernur dana investasi publik yasir al rumayyan cnbc international faktor investasi masif arab saudi sepak bola dasar populasi saudi usia tahun anda milik anak muda tarik olahraga hibur dasar tawar faber faktor dukung tinggi harga minyak harga minyak tengah tembus us barel harga minyak minyak brent us barel kabar gempar hampir arab aksi gabung usaha merger raksasa dana investasi pga liv namun al rumayyan putus dana mata dorong minat olahraga investasi hasil untung finansial kendati kelompok hak asasi manusia aktivis kritik tinggi tingkat investasi sepak bola arab saudi negara negara timur tuduh sportswashing negara sebut aksi arab saudi tentu valuasi klub eropa masif belanja klub arab saudi gerak valuasi nilai pasar klub sepak bola eropa kapital pasar manchester united mu sorot pasal klub setan merah alami turun tajam selasa hal iring klub arab saudi beli klub mu lapor mail on sunday milik klub keluarga glazer oleh nilai miliar us miliar tunda jual bahkan minat masyarakat saudi beli klub ekspektasi keluar jangka signifikan sepak bola arab saudi tingkat spekulasi nilai valuasi klub klub eropa\n",
      "cristiano ronaldo role model orang atlet sukses kagum milik tubuh bugar sehat pesepakbola portugal gaya hidup sehat tubuh fit tes temu pria usia milik postur tubuh muda usia ronaldo milik persen lemak tubuh pesepakbola persen massa otot bagai lapor sebut ronaldo pilih isi bahan bakar enam makan mini makan sarap makan siang makan siang camil makan malam makan malam advertisement scroll to resume content turut teliti pola makan ronaldo aneh atlet pola bantu penuh tinggi butuh nutrisi pesepakbola energi butuh latih laku hari pola makan ronaldo foto cristiano ronaldo main riyadh all stars stadion king fahd riyadh arab saudi januari anadolu agency via getty images anadolu agency foto cristiano ronaldo main riyadh all stars stadion king fahd riyadh arab saudi januari anadolu agency via getty images anadolu agency perhati pola diet ronaldo kabar milik ahli gizi pribadi pantau main real madrid dia suka alpukat kaya nutrisi ikan segar konsumsi makan protein rendah lemak ayam ronaldo sebut makan ajaib khasiat sehat salad biji biji quinoa buah segar tumpuk piring hari sama main portugal hidang favorit ronaldo bacalhau a bras hidang tradisional gabung telur orak arik kentang goreng ikan cod asin dan sentuh minum manis soda pesepakbola heboh merek minum sponsorship euro kala geser botol botol coca cola area duduk konferensi pers teriak bahasa portugis minum air makan ronaldo hari hari sarap keju ham yoghurt rendah lemak makan siang ayam salad makan siang tuna zaitun telur tomat camil buah segar alpukat roti panggang makan malam ikan todak segar salad makan malam steak cumi pola tidur ronaldo foto reuters jorge silva soccer football world cup round of uruguay vs portugal fisht stadium sochi russia june portugal s cristiano ronaldo reacts reuters jorge silva foto reuters jorge silvasoccer football world cup round of uruguay vs portugal fisht stadium sochi russia june portugal s cristiano ronaldo reacts reuters jorge silva ronaldo tidur jam aneh beda banyak orang ronaldo laku kali tidur siang menit kali tidur nyenyak panjang kenal tidur polifasik konsep dasar pecah siklus tidur normal kali tidur siang metode pasti beda beda cara pola tidur bayi korban jadwal tidur orang tua sendiri beberapa teliti ilmiah temu tidur siang menit siang tingkat reaksi kerja ilmuwan tidur polifasik bukti manfaat banding jadwal tidur atur namun ronaldo lapor anut teori muka pakar olahraga tidur nick littlehales temu real madrid tidur hasil maksimal latih tidur bantu pulih otot kata olahraga jam hari selain latih klub ronaldo jadwal latih pribadi pilates renang atur kali pergi gym minggu olahraga cr kardio menit lari cepat intensitas beban target tingkat kuat otot total olahraga jam hari\n",
      "olahraga aktivitas rutin orang tua usia olahraga minggu kuat otot teliti amerika serikat as orang latih aerobik otot hidup sekali hal layan sehat inggris nhs badan saran orang usia aktif fisik hari advertisement scroll to resume content aktivitas tingkat kuat imbang fleksibilitas wajib kali minggu nhs rekomendasi menit aktivitas intensitas minggu menit aktivitas intensitas aktif olahraga belum para teliti temu orang olahraga menit minggu hidup laku bahkan gabung latih aerobik atur aktivitas kuat otot kali minggu hidup sehat mereka milik risiko mati rendah sebab kanker sembilan banding aktif angkat besi turun risiko latih aerobik contoh latih aerobik pompa jantung paru paru jalan cepat lari sepeda renang studi temu wanita manfaat angkat besi pria tim teliti national cancer institute maryland university of iowa latih kuat otot tubuh ramping tulang kuat arah hidup sehat usia tua temu risiko mati rendah partisipasi jenis latih dukung kuat rekomendasi aktivitas aerobik kuat otot tulis studi dr jessica gorzelitz kutip bbc international kamis orang dewasa tua manfaat latih angkat beban rutinitas aktivitas fisik tambah studi fokus beban teliti jenis olahraga terap push up squat burpees pilates kuat otot pergi gym nhs aktivitas kuat otot liput bawa tas belanja berat yoga pilates tai chi angkat beban olahgara band resistensi push up sit up kebun gali sekop\n",
      "sesi studio wilayah vasant kunj new delhi anak anak kucing liar istirahat tikar musik lembut alun ruang anak kucing tatap serta alih pose pose yoga reuters anushree fadnavis\n",
      "kontingen indonesia catat hasil tambah koleksi medali emas ajang asi games hangzhou china jumat pagi tahan papan klasemen raih medali sementara selain hasil tambah medali emas kabar buruk salah cabang olahraga cabor andal indonesia badminton tim badminton indonesia gagal sumbang medali apa indonesia ajang asi games edisi kali kali advertisement scroll to resume content telah gagal raih medali nomor regu tim regu putra putri tumbang laga wakil indonesia laju babak empat final fajar alfian muhammad rian ardianto anthony ginting gregoria mariska gagal lanjut jalan babak semifinal hingga jumat pagi indonesia catat tambah koleksi medali perak perunggu oleh kamis total indonesia tengger posisi klasemen kantong enam emas perak perunggu dua medali perak indonesia sumbang cabor dragon boat perahu naga nomor meter tim putra putri indonesia finis posisi dua sementara keping perunggu sumbang ignatius joshua kandou cabor karate nomor mite kg putra ikut klasemen medali asi games  china emas perak perunggu jepang emas perak perunggu korea selatan emas perak perunggu india emas perak perunggu uzbekistan emas perak perunggu taiwan emas perak perunggu korea utara emas perak perunggu thailand emas perak perunggu bahrain emas perak perunggu iran emas perak perunggu\n",
      "nyanyi solo inggris ed sheeran gelar konser indonesia sabtu maret stadion utama gelora karno sugbk jakarta indonesia umum promotor pk entertainment akun instagram resmi pkenterteinmentid jumat superstar rekor dunia teddysphotos ed sheeran jakarta tur ed sheeran x tonton tampil langsung maret stadion gelora karno tulis pk entertainment jumat advertisement scroll to resume content turut informasi pk entertainment jual tiket tampil nyanyi usia bagi oktober wib oktober wib khusus nasabah bank uob november wib umum dapat tiket edsheeraninjakartacom pk entertainment presale pegang kartu uob oktober wib oktober wib umum sebut kutip laman resmi https edsheeraninjakartacom harga tiket konser nyanyi lagu thinking out loud banderol rp ribu rp juta harga konser ed sheeran x tour kategori green rp kategori yellow rp juta kategori orange rp juta kategori blue rp juta kategori purple rp juta kategori pink rp juta seluruh kategori tiket kategori duduk nomor catat area kategori pink ungu biru area duduk datar nomor duduk oleh bayar tiket harga tiket pajak perintah biaya platform biaya mudah convenience fee pk entertainment\n",
      "kenal selebriti kondang raffi ahmad usaha sukses sorot warganet suami nagita slavina juluk sultan andara kenal milik deret gurita bisnis selain dunia hibur raffi milik bisnis bisnis kuliner kosmetik fesyen mebel advertisement scroll to resume content namun bisnis raffi nagita tahan gulung tikar luncur daftar bisnis raffi ahmad nagita tutup dasar rangkum cnbc indonesia mango bomb mango bomb bisnis minum raffi nagita populer kalang masyarakat minum olah mangga populer indonesia raffi nagita manfaat tren bentuk mango bomb dasar telusur cnbc indonesia gerai mango bomb buka setiabudi one kuningan jakarta agustus silam mango bomb luas buka cabang jakarta utara jakarta selatan jakarta barat tangerang surabaya selain jual minum mangga mango bomb saji minum cokelat varian buah menu namun bisnis rintis rudy salim gulung tikar dasar pantau unggah akun instagram mango bomb mangobombid desember  gigieat cake pada periode deret artis indonesia kompak buka usaha kue bolu kini nagita gigieat cake nagita lebar bisnis kuliner bekas serpong bandung dasar telusur cnbc indonesia gigieat cake jual kue bolu kini topping cokelat keju pandan pisang susu buah silam gigieat tutup tren kue kini redup nagitoz selain jual minum kue nagita produksi camil ringan nagitoz diperjualbelikan minimarket marketplace nagitoz camil keripik bahan dasar talas sedia pilih bawang keju pedas daan barbeque namun keripik talas henti produksi temu minimarket marketplace silam bakmi rn pada raffi nagita buka bisnis kuliner gandrung masyarakat indonesia bakmi bakmi rn raffi nagita tawar menu mie ayam khas jawa bakmi khas china bakmi cumi cabe ijo nasi ayam barbeque pada bakmi rn milik cabang mal mal indonesia alias tengah bakmi rm nasib bisnis kuliner raffi nagita lain king kong snack belum nagitoz raffi ahmad produksi bisnis camil keripik singkong king kong snack nagitoz king kong snack beli minimarket marketplace sedia original keju barbeque pedas namun camil harga rp ribu tahan king kong snack dadak pajang minimarket dengar kabar ra jeans selain bidang kuliner raffi lebar sayap bisnis bidang fesyen ra jeans nama ra jeans sedia produk celana bahan jeans namun bisnis gerai gerai ra jeans tutup rans nusantara pada rans entertainment milik raffi ahmad gandeng dio living luncur rans nusantara bisnis mebel furniture desainer rajin lokal namun bisnis raffi bidang furniture pecah kongsi raffi dengan\n",
      "kenal pasang selebriti nama raffi ahmad nagita ahmad rintis bisnis kuliner kosmetik fesyen industri hibur kenal artis harta limpah hidup pasang awan kala rasa pahit tutup bisnis nyata bisnis raffi nagita gulung tikar alias bangkrut tutup luncur advertisement scroll to resume content lantas saja papar rangkum cnbc indonesia gigieat cake pada periode deret artis indonesia kompak buka usaha kue bolu kini nagita gigieat cake nagita lebar bisnis kuliner bekas serpong bandung dasar telusur cnbc indonesia gigieat cake jual kue bolu kini topping cokelat keju pandan pisang susu buah silam gigieat tutup tren kue kini redup mango bomb mango bomb bisnis minum raffi nagita populer kalang masyarakat pada minum olah mangga populer indonesia raffi nagita manfaat tren bentuk mango bomb dasar telusur cnbc indonesia gerai mango bomb buka setiabudi one kuningan jakarta agustus silam mango bomb luas buka cabang jakarta utara jakarta selatan jakarta barat tangerang surabaya selain jual minum mangga mango bomb saji minum cokelat varian buah menu namun bisnis rintis rudy salim gulung tikar dasar pantau unggah akun instagram mango bomb mangobombid desember  nagitoz selain jual minum kue nagita produksi camil ringan nagitoz diperjualbelikan minimarket marketplace nagitoz camil keripik bahan dasar talas sedia pilih bawang keju pedas daan barbeque namun keripik talas henti produksi temu minimarket marketplace silam bakmi rn pada raffi nagita buka bisnis kuliner gandrung masyarakat indonesia bakmi bakmi rn raffi nagita tawar menu mi ayam khas jawa bakmi khas china bakmi cumi cabe ijo nasi ayam barbeque pada bakmi rn milik cabang mal mal indonesia alias tengah bakmi rm nasib bisnis kuliner raffi nagita lain king kong snack belum nagitoz raffi ahmad produksi bisnis camil keripik singkong king kong snack nagitoz king kong snack beli minimarket marketplace sedia original keju barbeque pedas namun camil harga rp ribu tahan king kong snack dadak pajang minimarket dengar kabar ra jeans selain bidang kuliner raffi lebar sayap bisnis bidang fesyen ra jeans nama ra jeans sedia produk celana bahan jeans namun bisnis gerai gerai ra jeans tutup rans nusantara pada rans entertainment milik raffi ahmad gandeng dio living luncur rans nusantara bisnis mebel furniture desainer rajin lokal namun bisnis raffi bidang furniture pecah kongsi raffi dengan\n",
      "raffi ahmad contoh selebritis usaha sukses suami nagita slavina juluk sultan andara kenal milik deret gurita bisnis tidak dunia hibur raffi nagita jalan bisnis kuliner kosmetik fesyen mebel bisnis raffi nagita tahan tutup luncur ikut daftar bisnis raffi ahmad nagita tutup dasar rangkum cnbc indonesia sabtu advertisement scroll to resume content mango bomb mango bomb bisnis minum raffi nagita populer kalang masyarakat minum olah mangga populer indonesia raffi nagita manfaat tren bentuk mango bomb dasar telusur cnbc indonesia gerai mango bomb buka setiabudi one kuningan jakarta agustus silam mango bomb luas buka cabang jakarta utara jakarta selatan jakarta barat tangerang surabaya selain jual minum mangga mango bomb saji minum cokelat varian buah menu namun bisnis rintis rudy salim gulung tikar dasar pantau unggah akun instagram mango bomb mangobombid desember  gigieat cake pada periode deret artis indonesia kompak buka usaha kue bolu kini nagita gigieat cake nagita lebar bisnis kuliner bekas serpong bandung dasar telusur cnbc indonesia gigieat cake jual kue bolu kini topping cokelat keju pandan pisang susu buah silam gigieat tutup tren kue kini redup nagitoz selain jual minum kue nagita produksi camil ringan nagitoz diperjualbelikan minimarket marketplace nagitoz camil keripik bahan dasar talas sedia pilih bawang keju pedas daan barbeque namun keripik talas henti produksi temu minimarket marketplace silam foto deret artis raffi achmad nagita slavina desta irfan hakim chef arnold hadir acara akad nikah mempelai tangkap layar story instagram raffinagita deret artis raffi achmad nagita slavina desta irfan hakim chef arnold hadir acara akad nikah mempelai tangkap layar story instagram raffinagita foto deret artis raffi achmad nagita slavina desta irfan hakim chef arnold hadir acara akad nikah mempelai tangkap layar story instagram raffinagitasederet artis raffi achmad nagita slavina desta irfan hakim chef arnold hadir acara akad nikah mempelai tangkap layar story instagram raffinagita bakmi rn pada raffi nagita buka bisnis kuliner gandrung masyarakat indonesia bakmi bakmi rn raffi nagita tawar menu mi ayam khas jawa bakmi khas china bakmi cumi cabe ijo nasi ayam barbeque pada bakmi rn milik cabang mal mal indonesia alias tengah bakmi rn nasib bisnis kuliner raffi nagita lain king kong snack belum nagitoz raffi ahmad produksi bisnis camil keripik singkong king kong snack nagitoz king kong snack beli minimarket marketplace sedia original keju barbeque pedas namun camil harga rp ribu tahan king kong snack dadak pajang minimarket dengar kabar ra jeans selain bidang kuliner raffi lebar sayap bisnis bidang fesyen ra jeans nama ra jeans sedia produk celana bahan jeans namun bisnis gerai gerai ra jeans tutup rans nusantara pada rans entertainment milik raffi ahmad gandeng dio living luncur rans nusantara bisnis mebel furniture desainer rajin lokal namun bisnis raffi bidang furniture pecah kongsi raffi dengan\n",
      "blackpink resmi raya karier industri musik korea selatan alias k pop selasa girlgroup anggota jisoo jennie rose lisa debut agustus single whistle boombayah rilis single puncak tangga lagu korea selatan nomor satu saat blackpink juluk queen of k pop alias ratu musik korea selatan popularitas rekor dunia pecah advertisement scroll to resume content foto korean air luncur pesawat khusus dedikasi dukung bus world expo korea instagram koreanairworld foto korean air luncur pesawat khusus dedikasi dukung bus world expo korea instagram koreanairworld turut lapor the korea times guinness world record nobat blackpink grup k pop perempuan duduk peringkat tangga album amerika serikat as inggris album born pink selain blackpink artis k pop tampil utama headliner festival musik besar amerika serikat coachella lantas total kaya member blackpink deret prestasi sebut lansir yahoo kutip wealthy persons total kaya blackpink us juta rp miliar asumsi kurs rp us member oleh us juta rp miliar bagai informasi anggota blackpink empat member brand ambassador merek nama dunia dapat asal blackpink rincian total kaya member blackpink kim jisoo foto reuters stephane mahe jisoo member of the girl group blackpink poses before dior spring summer women s ready to wear collection show during paris fashion week in paris france september reuters stephane mahe foto reuters stephane mahejisoo member of the girl group blackpink poses before dior spring summer women s ready to wear collection show during paris fashion week in paris france september reuters stephane mahe turut celebrity net worth kira total kaya jisoo capai us juta rp miliar member blackpink jisoo milik sepakat global brand ambassador dior cartier tidak idola k pop global brand ambassador jisoo kenal per utama drama snowdrop meski member debut solo lagu flower bukti sukses rebut hati cinta k pop lapor soompi flower langsung lesat puncak tangga lagu charts negara dunia rilis bahkan tayang video musik flower youtube hasil raup juta kali tayang rilis jennie kim foto jennie blackpink cannes tangkap layar instagram allkpop foto jennie blackpink cannes tangkap layar instagram allkpop turut celebrity net worth kaya jennie us juta rp miliar selain blackpink jennie global brand ambassador chanel brand ambassador hera cosmetic jennie kolaborasi merek gentle monster calvin klein porsche korea baru nyanyi usia bintang serial the idol tayang hbo roseanne park rose foto rose blackpink instagram rosesarerosie foto rose blackpink instagram rosesarerosie rupa jisoo jennie kaya ros lapor us juta celebrity net worth diketahuiros duta merek kosmetik kiss me jisoo member lahir new zealand menandatangani sepakat kerja main perfect world entertainment perfect world mobile pada ros resmi global brand ambassador yves saint laurent ysl tiffany co  lalisa manoban lisa foto lisa blackpink dok instagram lalalalisam foto lisa blackpink dok instagram lalalalisam lisa member blackpink hormat masyarakat negara asal thailand berkat prestasi raih oktober guinness world record umum lisa blackpink pecah rekor baru lagu debut rekor video musik lalisa pecah rekor dunia video musik mv artis solo jam mv kumpul juta tonton youtube jam hasil kalah rekor lagu me taylor swift brendon urie raup juta tonton turut celebrity net worth kira total kaya lisa us juta lisa catat global brand ambassador celine brand ambassador bvlgari global brand ambassador mac cosmetics\n",
      "saham agens k pop yg entertainment anjlok jumat lisa blackpink tolak tawar panjang kontrak agens sebut lansir cnbccom jatuh harga saham turun besar saham yg september advertisement scroll to resume content turut outlet berita korea selatan star news anggota lahir thailand tolak tawar yg besar kontrak lapor nila miliar won korea selatan rp miliar dalam nyata outlet media korea selatan tvreport jumat juru bicara yg usaha bahas baru kontrak lisa rumor konfirmasi resmi cnbc hubung yg entertainment komentar terima balas kembang susul lapor juli lisa temu sepakat panjang kontrak agens pada outlet media korea selatan newsen lapor yg tanggap diskusi baru kontrak outlet munhwa ilbo lapor agens lisa sepakat bagai informasi korea selatan saham yg entertainment turun level won korea saham agens bawah black pink catat market cap triliun won korea\n",
      "saham agens k pop yg entertainment anjlok kamis media korea selatan lapor anggota blackpink menandatangani kontrak label sebut saham yg tutup level rendah level won us saham level rendah tutup mei level won media korea selatan sports seoul lapor jisoo jennie lisa menandatangani kontrak label ros lanjut kontrak yg advertisement scroll to resume content media tiga anggota diskus menit menit strategi pisah kabar menandatangani kontrak label tampil blackpink enam tahun sementara reuters lapor yg bicara kontrak putus lapor muncul lisa member thailand duga tolak tawar panjang kontrak yg besar kontrak lapor nila miliar won korea selatan rp miliar\n",
      "pt bursa efek indonesia bei pantau gera saham emiten milik konglomerat hary tanoesoedibjo pt mnc digital entertainment tbk msin turun harga saham biasa unusual market activity dengan informasi turun harga saham pt mnc digital entertainment tbk msin biasa unusual market activity manajemen bei kutip buka indormasi bursa efek indonesia bei rabu meski uma merta langgar atur undang undang bidang pasar modal advertisement scroll to resume content informasi usaha catat informasi tanggal september publikasi website bei lapor bulan registrasi pegang efek hubung unusual market activity saham msin bursa cermat kembang pola transaksi saham jelas oleh investor harap perhati usaha catat minta konfirmasi bursa cermat kerja usaha catat buka informasi kaji rencana corporate action usaha catat rencana tuju rups timbang timbul ambil putus investasi bagai informasi harga saham msin anjlok pek sentuh harga batas bawah arb level rp saham dagang rabu pagi saham msin buka tekan ambles rp saham\n",
      "lisa salah member grup k pop blackpink bincang media korea selatan korsel tolak tawar panjang kontrak agens yg entertainment belum media korea selatan star news lapor nyanyi nama asli lisa manoban tolak tawar agens taung grup nilai kontrak miliar won rp miliar lapor sebut juru bicara yg entertainment diskusi panjang kontrak member blackpink thailand itu rumor konfirmasi resmi lapor tvreport kutip sabtu advertisement scroll to resume content hingga yg entertainment terang apa rumor lisa panjang kontrak yg entertainment muncul jelang hujung tur dunia tajuk born pink informasi tur besar lakon grup k pop perempuan sukses gaet juta tonton kota dunia oktober kontrak blackpink yg entertainment agustus agens konfirmasi resmi kait panjang kontrak anggota debut itu kaya lisa lisa member blackpink hormat masyarakat negara asal thailand berkat prestasi raih oktober guinness world record umum nyanyi usia pecah rekor baru lagu debut rekor video musik lalisa pecah rekor dunia video musik mv artis solo jam mv kumpul juta tonton youtube jam hasil kalah rekor lagu me taylor swift brendon urie raup juta tonton turut celebrity net worth kira total kaya lisa us juta tara rp miliar asumsi kurs rp us saat lisa catat global brand ambassador celine brand ambassador bvlgari global brand ambassador mac cosmetics blackpink anggota jisoo jennie rose lisa debut agustus single whistle boombayah rilis single puncak tangga lagu korea selatan nomor satu saat blackpink juluk queen of k pop alias ratu musik korea selatan popularitas rekor dunia pecah cnbc indonesia research email protected\n",
      "saham usaha agens k pop yg entertainment anjlok jumat media korea selatan korsel lapor anggota blackpink lisa tolak tawar panjang kontrak agens sebut turut cnbc international jumat jatuh harga saham turun besar yg september tutup jumat turun saham yg entertainment pangkas minus turun sementara senin wib saham yg turun saham yg jeblok lebih semenjak isu lisa blackpink juli kapital pasar market cap yg entertainment uap krw miliar tara rp miliar kurs rp krw krw triliun kutip media korea selatan star news anggota lahir thailand tolak tawar yg besar kontrak lapor nila miliar won korea selatan juta hal susul lapor juli lisa temu sepakat panjang kontrak agens pada outlet media korea selatan newsen lapor yg tanggap diskusi baru kontrak media munhwa ilbo lapor beda belah besar blackpink anggota jisoo jennie ros lisa salah grup k pop sukses yg berita muncul blackpink selesai tur dunia born pink tur dunia besar girl grup k pop tarik juta orang kota oktober blackpink ada tur tanggal september seoul grup anggota orang debut yg agustus karena grup k pop menandatangani kontrak durasi tujuh kontrak blackpink agustus agens konfirmasi baru kontrak salah anggota saham k pop cuan saham usaha agens k pop besar negeri gingseng hybe co sm entertainment co yg entertainment inc jyp entertainment corp lonjak kali lipat naik indeks acu utama kospi dari bts blackpink roket grup pop korsel picu euforia investor ekuitas pasar katalis positif bahkan goldman sachs group inc broker tingkat target harga tp jadi sektor k pop salah populer samping saham kait baterai kendara listrik ev ada lusin artis grup muncul pasar musik minggu jangwon lee cipta exchange traded fund etf risi saham hibur bursa korsel kutip bloombergnews juni hal proses tahan lonjak saham k pop hibur korea imbuh jangwon dari agens k pop besar yg entertainment lonjak jyp entertainment lesat hybe sm entertainment terbang year to date ytd goldman naik target harga jyp won us won mei tahan rekomendasi beli demikian broker lokal tingkat hybe yg sm usaha lapor dapat kuartal netflix janji investasi us miliar konten korea depan meski fokus artis k poptiga ekspansi pasar global as eropa jepang bangun imbang cakup geografis cfo hybe kyung jun lee investor mei lalu kini industri k pop hasil us miliar ekonomi korsel tahun sektor k pop catat tumbuh pasar solid tingkat tumbuh tahun gabung cagr hadir kuat pasar global upaya monetisasi produsen k pop kira sanford bernstein kutip asia fund managers juni cnbc indonesia research email protected\n",
      "centre for strategic and international studies csis sebut mitigasi potensi sebar misinformasi disinformasi wujud selenggara milu damai kepala departemen politik ubah sosial csis arya fernandes sebar disinformasi misinformasi pengaruh percaya masyarakat hasil proses milu misinformasi disinformasi edar sasar selenggara proses selenggara milu sebar pengaruh percaya orang hasil proses milu disinformasi misinformasi sasar selenggara milu selenggara milu arya kutip sabtu hubung arya nilai selenggara milu libat kontestasi milu milik rencana tekan sebar berita keliru masyarakat ia imbau serta milu gerak kampanye bersih depan sampai program visi misi kampanye sehat jalan jelang milu  kandidat tim kandidat debat bijak agenda agenda dorong debat visi misi kampanye hitam calon presiden program program masyarakat partai dukung tim sukses depan kampanye programatik jelas turut kontribusi perintah masyarakat sipil media massa platform digital akademikus butuh capai selenggara milu damai masyarakat ambil peran sumber informasi terima asal kanal resmi sedia selenggara milu selain masyarakat manfaat platform digital periksa informasi lapor informasi indikasi misinformasi disinformasi selenggara milu lapor kanal media sosial temu informasi keliru konfirmasi informasi imbuh arya\n",
      "komisi pilih kpu umum daftar calon dct anggota dpr ri dprd provinsi dprd kabupaten kota dpd indonesia kpu umum tetap pasang calon presiden calon wakil presiden capres cawapres senin november mendatangg lanjut kpu cetak surat suara pilih milu november pasca tetap pasang capres cawapres serta pilih presiden pilpres  tengah november tanggal november cetak surat suara ketua kpu ri hasyim asy ari konfirmasi jakarta sabtu turut hasyim cetak surat suara langkah sedia sarana mungut suara pilih mungut februari datang ia november kpu undang wakil kpu provinsi kabupaten kota jakarta tuju pimpin partai politik tingkat daerah kait desain surat suara milu  tanggal november teman teman kpu provinsi kabupaten kota undang jakarta approval tuju pimpin partai politik kait desain surat suara hasyim kutip antara hasyim undang kpu provinsi kabupaten kota konfirmasi kait tuju desain surat suara pimpin partai politik tingkat daerah\n",
      "komisi pilih kpu ri tetap orang daftar calon dct anggota dpr ri calon anggota dpr ri pileg asal partai politik serta milu kita tetap masuk daftar calon umum orang ketua kpu ri hasyim asyari konferensi pers jumat dia orang calon anggota dpr aju partai politik daftar mei amat kpu umum orang daftar calon dcs anggota dpr ri yang ms penuh syarat dcs penuh syarat tetap umum dcs daftar calon ujar hasyim tanggapam masyarakat dct anggota dpr ri kurang nama orang verifikasi kpu tetap orang dct dpr ri telah umum tanggap masyarakat mekanisme internal partai merespon tanggap masyarakat aju masuk dct daftar calon partai politik kurang orang nama tutur kemudian verifikasi penuh syarat masuk dct tetap liput partai politik serta milu sambung hasyim\n",
      "komisi pilih kpu umum nama nama tim sukses pasang calon capres cawapres milu november adapun tim sukses bentuk pasang calon koordinasi partai politik usul mereka nanti tanggal tim sukses tetap resmi tanggal anggota komisi pilih kpu ri divisi hukum mochammad afifuddin diskusi csis jakarta pusat kamis dasar atur kpu pkpu nomor kampanye pilih tim sukses milik tugas tugas hubung serta milu kpu kemudian tugas selenggara giat kampanye pemberitahuan tulis polisi tembus bawaslu selenggara giat kampanye akhir tim sukses tugas sebar bahan kampanye bagai informasi pasang ganjar pranowo mahfud md umum sosok sosok gabung tim menang mereka salah satu arsjad rasjid ketua tim menang nasional tpn ganjar mahfud kemudian pasang prabowo subianto gibran rakabuming raka umum ketua tim kampanye nasional tkn mereka mantan ketua kamar dagang industri kadin indonesia periode ros roeslani pilih ketua tkn prabowo gibran sedang pasang anies baswedan muhaimin iskandar ketua tim menang\n",
      "pilih milu pilih anak muda capai persen tentu utama kontentasi pilih kali ini data dasar badan pusat statistik bps duduk indonesia capai juta jiwa persen anak muda gelombang sejarah milu indonesia ungkap webinar tajuk suara muda suara tentu selenggara apahabar community selasa turut amat komunikasi universitas gadja mada nyarwi ahmad anak muda potensi tentu milu jaga momen manfaat elite partai tentu sjauh partai mengatasnamakan anak muda galang isu isu kait anak muda sentuh anak muda langsung nyarwi terang tulis selasa misal media sosial tracking isu anak muda putar gibran minim temu voice anak muda kuat kait suara politik sambung webinar selenggara apahabar community itu oleh nyarwi ajak anak muda jaga momen milu sadar posisi mamanfaatkan kuat tentu pimpin baik maju negeri saya pikir anak muda manfaat milu kali sayang momentum hadir anak muda privilege hadir milu momen nyarwi\n",
      "calon presiden capres prabowo subianto prediksi pilih utama masyarakat jawa barat jabar pilih presiden pilpres direktur eksekutif partner politik indonesia ab solissa tokoh menteri tahan menhan kuat jabar bukti pilpres belum di pilpres prabowo pilih utama masyarakat jabar tatap pimpin indonesia lanjut iya pengaruh prabowo menang tarung jabar solissa hubung kamis kaca tren pilih solissa lanjut tambah data data asal survei infrastruktur politik pasang mana sulit tembus benteng kuat prabowo jabar hal data saji hasil survei rilis polling institute periode oktober duet koalisi indonesia maju kim prabowo gibran unggul persen wilayah jabar angka kali lipat oleh pasang koalisi ubah satu kpp anies baswedan muhaimin iskandar jabar persen dukung hadir koalisi indonesia maju kim usung prabowo partai partai milik kader potensial himpun suara daerah upaya menang pilpres partai gerindra golkar pan demokrat karena hadir kader partai mantan gubernur jabar ridwan kamil potensial tingkat menang prabowo pesta demokrasi datang lalu dukung tokoh tokoh anggap kapasitas jawa barat ridwan kamil tokoh kunci lihat ambil posisioning dukung prabowo subianto pungkas solissa\n",
      "ketua tum partai gerindra calon presiden prabowo subianto elite jelek ambil pusing klaim cinta rakyat desa orang elite jelek jelek prabowo rakyat desa cinta prabowo saudara saudara prabowo sambut terima deklarasi induk koperasi unit desa kud jakarta sabtu malam prabowo cinta rakyat urus narasi negatif elite prabowo sebut elite maksud cinta rakyat hina urus setia setia rakyat desa desa imbuh prabowo pada sempat prabowo terima deklarasi urus induk kud inkud prabowo aku hormat bangga dukung beri bangga syukur bahagia percaya saudara saudara inkud induk koperasi unit desa kata dalam sambut prabowo sebut koperasi luput ejek cenderung citra gagal prabowo aku koperasi gagal koperasi hasil gagal besar besar gera koperasi salah keliru gagal ejek kud singkat ketua untung duluan narasi bangun patah semangat percaya lansir\n",
      "calon presiden koalisi indonesia maju kim prabowo subianto angkat suara cap dinasti politik presiden joko widodo jokowi semat gibran rakabuming raka resmi calon baba wakil presiden turut salah dinasti politik tuju merah putih kita dinasti abdi rakyat dinasti jokowi bakti rakyat salah prabowo subianto the dharmawangsa jakarta senin ketua gerindra lanjut aku dinasti politik sang kakek ayah kuasa negara abdi sejahtera bangsa indonesia saya dinasti anak soemitro cucu margono djojohadikusumo paman gugur ri dinasti dinasti merah putih dinasti patriot prabowo menteri tahan ri publik jalan presiden jokowi jernih arti tuju gibran putra sulung jokowi nusa bangsa pikir positif prabowo tandas\n",
      "teliti lembaga survei indonesia political opinion ipo dedi kurnia syah suara dukung prabowo subianto potensi gerus gandeng wali kota solo gibran rakabuming raka cawapresnya prabowo gandeng gibran untung anies baswedan milik materi propaganda potensi kurang suara prabowo dedi selasa dedi gobran pilih prabowo cawapresnya gibran sosok independen pilih gibran faktor jokowi konteks prabowo giur rawan jokowi puas publik pimpin jokowi dedi namun saing pilpres gandeng gibran prabowo potensi tinggal pilih turut muncul propaganda prabowo anggap tokoh langgeng praktik politik dinasti main kelompok anies baswedan dedi dengan potensi kurang dukung prabowo kurang survei ipo jokowi pengaruh pilih persen hal dedi jokowi anggap khianat pdip pemilh pdip loyal partai megawati sisi prabowo hindar propaganda politik dinasti gerus suara sisi jokowi bawa suara prabpwo suara pdip papar\n",
      "sekjen pdip hasto kristiyanto calon gibran rakabuming raka calon wakil presiden cawapres hasil political disobidience bangkang politik dukung rekayasa hukum mahkamah konstitusi mk apa mata rantai calon mas gibran political disobidience konstitusi rakyat indonesia semua padu rekayasa hukum mk hasto terang minggu turut hasto langkah gibran rakabuming raka berangan sikap rakyat indonesia kultural takwa tuhan negeri spiritual moralitas nilai benar setia depan terima aku ketua partai politik kartu truf nya pegang life time hari keras tekan kuasa dia bagi hasto situasi kelam demokrasi rakyat indonesia paham tinggal ambisi kuasa semata moga awan gelap demokrasi rakyat indonesia paham tinggal ambisi kuasa hasto kristiyanto\n",
      "menteri pemuda olahraga menpora dito ariotedjo bicara kongres dunia tafisa dusseldorf jerman sabtu sempat bicara atas ubah iklim olahraga menpora dito kemenpora milik program nama pepelingasih pemuda peduli lingkung asri bersih program ejawantah olahraga alat atas ubah iklim di kemenpora program pepelingasih pemuda peduli lingkung asri bersih program gerak pemuda akomodasi dorong generasi muda indonesia dukung tantang mitigasi krisis iklim menpora dito terang terima menpora dito olahraga pisah masyarakat indonesia kemenpora komite olahraga masyarakat indonesia kormi rangka bina olahraga beberapa program olahraga festival olahraga rekreasi masyarakat indonesia fornas tafisa world walking day wwd juara kampung tarkam padel grand fondo new york sukses laksana wujud bina olahraga kemenpora menteri pemuda olahraga republik indonesia komite olahraga masyarakat indonesia kormi bina olahraga indonesia menpora dito\n",
      "sekretaris jenderal sekjen dpp partai demokrasi indonesia juang pdip hasto kristiyanto semangat hadap rintang copot baliho bal semangat hasto turnamen sepak bola liga kampung soekarno cup u turnamen selesai menang tim bal gol balas tim sulawesi selatan stadion utama gelora karno sugbk senayan jakarta jumat malam ini langsung semangat baliho abis cabut langsung muncul spirit salur olahraga hasto wartawan turut helat olahraga mimpi anak anak kampung realisasi kepala daerah pdip anak anak muda main sepak bola stadion utama gbk ya gembira mimpi anak anak kampung minggu sepakbola anak anak kampung kepala daerah pdi juang kata biasa kabupaten mimpi main gbk ya udah hadir main gbk mimpi laksana sambung hasto dengan turnamen harap muncul kultur bangun supremasi sepak bola indonesia kampung kampung harap muncul kultur bangun supremasi bola kampung pesan utama dia lebih politikus yogyakarta turnamen harap muncul sebelas sepak bola anak bangsa handal sehingga harap mari sebelas handal ukir prestasi kampung kampung lopor kader pdi juang pungkas hasto kristiyanto fifa world cup u indonesia saksi indosiar sctv nonton live tanding lengkap vidio best match moji mentari nex parabola\n",
      "sukarelawan ganjar pranowo gp ronggolawe tuban gelar turnamen olahraga elektronik e sport mobile legends rangka cetak atlet andal giat sasar ratus milenial jalan proklamasi tuban jawa timur jumat agustus korwil gp ronggolawe tuban abdurrohim turnamen tuju wadah minat bakat kaum milenial bidang e sport game mobile legends olahraga elektronik masuk cabang olahraga cabor lomba ajang asean games acara turnamen e sport mobile legends e sport masuk tanding asean games support generasi milenial raih prestasi abdurrohim dia harap kaum milenial salur hobi positif mesti berani unjuk gigi cipta gamers andal alhamdulillah kali semarak serta harap tingkat dukung masyarakat ganjar pranowo presiden segmen generasi milenial dia sementara tanggung acara ja far shodiq sebut gp ronggolawe hadir manfaat rangkul kalang kecuali kaum milenial giat adakan tuju visi misi mas ganjar kalang muda tua kalang kini mas ganjar hadir ja far\n",
      "sukses tanding tenis selenggara november kali vindes sport tanding regu tajuk voli informasi resmi rilis laman instagram vindesig rabu vivin dedes sebut tonton setia vindes antusias saksi tanding voli ada tanggal agustus datang siap mendapetkin tiket aktif notifikasi tiap media sosial vindes subskrek youtube vindes terlewatkin deskripsi singkat semat unggah umum sebut tanding olahraga voli hadir yolla yuliana indro warkop komentator cok pardede tretan muslim pandu acara harly valentina reporter ntrl bintang tamu isi acara\n",
      "perintah kota batam gelar event batam k acara lomba lari maraton kilo meter gelar riah halaman parkir hotel santika batam giat gelar minggu juli riah ratus serta turis mancanegara kepala disbudpar kota batam ardiwinata giat olahraga balut pariwisata sport tourism gelar kota batam anjak pandemi covid pada giat batam k ikut ratus serta daerah aceh medan tanjungpinang batam ujar serta medan aceh hasil juara lomba lari k mana menang medali uang tunai merchandise sponsor lomba lari giat riah tampil musik zumba lucky draw hadiah puluh juta rupiah sepeda motor listrik lalu kirim video menparekraf sandiaga uno apresiasi selenggara inovasi kolaborasi adaptasi selenggara giat batam k ini tumbuh sport tourism indonesia capai rp triliun angin segar langkah bangkit pariwisata ekonomi indonesia buka lapang kerja luas luas public relations hotel santika batam yossie christiy thenu sponsor utama giat giat salah daya tarik wisatawan kota itu pariwisata batam kembang turis pasti untung industri pariwisata kota batam\n",
      "potret kate middleton main tenis roger federer wimbledon london inggris hasil bikin netizen kesima pasal wanita usia piawai luwes main tenis bahkan istri pangeran william juluk princess of sport gemar raja kate middleton ahli main tenis olahraga lain dalam video singkat durasi menit unggah kanal youtube wimbledon kate middleton servis lawan roger federer salah tenis baik dunia tidak george charlotte louis hasil servis delapan kali lawan roger federer kesima lihat kate middleton tampil kate middleton main tenis roger federer hasil netizen kesima kate middleton banjir puji bakat dunia olahraga bilang keren catherine princess of sport tulis salah tonton kutip terang laman dailymail senin tim ganda campur butuh netizen lain putri wales senang federer rindu lapang tenis video indah tonton kate pandai sambung tonton lain hingga video kate middleton main tenis roger federer tonton ribu kali\n",
      "ikat sport sepeda indonesia issi sulawesi barat sulbar laksana ajang sulbar national criterium race ajang laksana mei tempat arteri road mamuju kabupaten mamuju sulbar national criterium race ajang balap sepeda besar laksana provinsi serta asal daerah pulau sulawesi kalimantan ketua issi sulbar muhammad idris ajang komitmen geliat sport tourism balap sepeda ajang komitmen issi sulbar dorong ajang laksana kabupaten provinsi itu kita issi contoh canang mamasa tipe lomba beda downhill cross country sesuai alam idris minggu idris balap sepeda salah cabang olahraga baik harum nama bangsa kancah internasional ajang sea games mana kontingen balap sepeda indonesia juara oleh medali emas kalau dorong kuat tenaga level insya allah sepeda lumbung emas ajang ajang selenggara depan idris khusus sulbar idris harap sulbar national criterium race ajang jaring atlet potensial utama atlet usia remaja duduk bangku smp sma kalau sepeda usia sma masuk ketegori usia cari bibit smp tua sma kelas semangat bangun harap idris sedang ketua panitia sulbar nasional criterium race adi jumardin ungkap atlet balap sepeda ikut ajang ajang nomor lomba dasar kelompok usia yang daftar atlet konfirmasi atlet asal daerah makassar palu kolaka samarinda adi nomor lomba men elite up women open up men junior u women junior u master a master b master c up folding bike up ajar sma putra ajar sma putri ajar smp putra ajar smp putri asn lokal sulbar asn lokal sulbar up para serta rebut piala medali hadiah juta rupiah tutup adi\n",
      "tren olahraga wisata lahir istilah sport tourism wisata olahraga salah tren pariwisata popular bilang popularitas sport tourism pariwisata indonesia sport tourism kembang indonesia dampak pandemi covid dorong masyarakat sadar pola hidup sehat sport tourism marak gari masyarakat menuurut deputi bidang produk wisata selenggara giat events vinsensius jemadu liputancom jumat mei event olahraga gelar indonesia tour de singkarak ironman jakarta marathon sport tourism tren pariwisata milik pasar luas multiplier effect giat ekonomi masyarakat potensi alam indah ragam kontur alam variasi wilayah luas milik indonesia dukung kembang sport tourism indonesia acu data indonesia tumbuh capai rp triliun terang vinsensius jemadu pria akrab sapa vinsen indonesia milik potensi alam indah gunung laut danau agam potensi seni budaya moto sport indonesia potensi eco tourism trail runing sepeda renang dll potensi alam agam beberapa destinasi wisata potensi sport tourism danau toba pulau riau banyuwangi tiga daerah milik potensi alam dukung selenggara sport tourism danau toba potensial olahraga air pulau riau kenal selenggara sport tourism tour de bintan ironman bintan triathlon banyuwangi potensi alam gunung juara balap sepeda tour de banyuwangi ijen pantai potensi olahraga air surfing diving vinsen kemenparekraf dukung kembang sport tourism peran dukung laksana event promosi kesiap produk wisata destinasi wisata unggul yangsiap jual salah upaya dukung bangkit pariwisata pascapandemi protokol sehat chse wisata olahraga masyarakat wisata olahraga aman dantetap sehat sambung vinsen potensi wisata olahraga aku ketua satu hotel restoran indonesia phri jawa barat herman muchtar potensi sport tourism indonesia milik bentang alam dukung selenggara event sport tourism taraf international tunjang fasilitas lengkap terang herman pesan liputancom jumat mei dengan lebih herman indonesia venue pilih jadi selenggara event sport tourism taraf internasional wisatawan event sport tourism relatif wisatawan atlet minta butuh akomodasi hotel restoran selenggara jalan\n",
      "sport tourism salah instrumen tarik kunjung wisata event reguler tour de singkarak baru f powerboat danau toba tingkat wisatawan sport tourism wisata olahraga tren pariwisata pasar luas milik multiplier effect giat ekonomi masyarakat potensi kembang sport tourism indonesia agam bentang alam indonesia gunung air fasilitas olahraga dewasa benah direktur event nasional internasional menteri pariwisata ekonomi kreatif kemenparekraf baparekraf ri dessy ruhati wawancara tulis liputancom jumat februari ia sambung laksana event sport tourism indonesia tarik wisatawan kunjung kenal alam unik kombinasi indah alam budaya keramahtamahan masyarakat cermat mayoritas selenggara event sport tourism indonesia destinasi destinasi wisata ikonik serta arif lokal aspek laksana papar dessy selain pandemi covid dorong inovasi sektor kecuali selenggara sport tourism respons adaptasi normal kemenparekraf terbit pandu chse cleanliness health safety and environment sustainability selenggara pariwisata selenggara event sport tourism turut chse crowd management wajib perhati terap selenggara event sport tourism cipta aman nyaman wisatawan digitalisasi akselerasi lantar efektivitas efisiensi selenggara event proses registrasi promosi event media digital media sosial\n",
      "danau toba sumatera utara pilih lokasi f powerboat sport tourism skala internasional balap perahu super cepat kelas dunia selenggara februari lokasi kawasan labuh mulia raja napitupulu bukit pahoda lapang mini soposurung ajang f powerboat lake toba target ribu wisatawan lokal mancanegara rencana saksi ajang olahraga kelas dunia lewat sempat nikmat kuliner khas salah daya tarik danau toba mulai pagi cicip jajan khas ombus ombus kuliner bahan dasar tepung beras tepung ketan isi gula merah bumbu kue tradisional kenal masyarakat suku batak ombus ombus saji acara syukur nikah acara mati kudap tamu hadir beli kue tradisional dagang keliling warung nasi nikmat kuliner arsik ikan mas lewat arsik ikan mas masak bumbu rempah agam proses masak cita gurih kuliner gemar kuliner pedas niscaya puas kuliner ini tidak lupa tambah lengkap cita pedas goda sambal khas batak kenal sambal tuk tuk nikmat sambal pedas andaliman merica khas batak jamin nikmat nikmat sambal tuk tuk goreng mungkin dengar spaghetti khas batak orang suku batak sebut mi gomak hidang kenal gurih pedas gurih asal santan kelapa pedas asal merica batak andaliman mi gomak olah jenis kuah goreng tinggal pilih sesuai selera suku batak milik hidang popular sashimi jepang na niura hidang kenal masyarakat batak sashimi na niura saji mentah proses masak belum na niura buat ikan mas bumbu halus cabai merah bawang merah bawang putih rias andaliman bahan bumbu halus lumur ikan mas diam bumbu serap na niura milik cita kaya gurih pedas asam kudap\n",
      "taman hibur chimelong taman hibur ruang besar dunia buka september wisata tema kapal angkasa letak zhuhai china lansir the sun kamis oktober luncur taman hibur tujuh harga rekor dunia tidak penuh wahana main chimelong hadir akuarium raksasa tinggal hewan taman hibur hias langit langit buat kaca raksasa arsitektur inspirasi karya fiksi ilmiah unjung takjub dengan kapasitas orang hari ruang luas juta kaki persegi orang gemar angkasa kosmos alien pesawat angkasa puas jajah taman wisata takut bosan habis keliling taman hibur sebut bangun taman hibur tema kapal angkasa raksasa habis biaya juta poundsterling rp triliun jadi taman hibur mahal dunia bangun milik akuarium meter tampung galon air tangki beberapa paus orca tinggal akuarium taman hibur hasil gelombang kaki jadi taman hibur kolam ombak buat ruang besar dunia mesin ombak canggih\n",
      "mayang lucyana kerap sorot berkat ambisi terjun dunia hibur tanah air totalitas adik mediang vanessa angel tunjuk operasi plastik hidung bagai orangtua mayang doddy sudrajat ajar putri total tekun bidang urus tampil kalau daddy sih nggak operasi hubung masuk entertain ya iya total public figure doddy sudrajat kawasan kebayoran jakarta selatan kamis mayang operasi ya iya daddy cari informasi gimana sih operasi hidung sambung doddy sudrajat mula doddy aku izin mayang lucyanaterjun dunia entertainment doddy aku trauma mendiang vanessa sandung hukum surabaya dia mayang masuk entertain sebenernya daddy nggak kasih trauma kakak surabaya sebenernya titik larang mayang tuh aku belum larang langsung doddy mayang ikut ajang cari bakat idola cilik indonesian idol junior indonesia cari bakat daddy biarin aja jam terbang nggak masuk final nggak juara nggak surabaya daddy cut udah nggak masuk dunia entertain kenang doddy\n",
      "saham yg entertainment koreksi dagang saham jumat gera saham yg entertainment lemah kabar kontrak blackpink kutip data google market summary saham yg entertainment merosot persen posisi won korea selatan rp asumsi won korea selatan rupiah kisar jumat september koreksi saham kapital pasar yg entertainment usd triliun koreksi saham yg entertainment indeks kospi korea selatan susut persen indeks kosdaq lemah persen posisi pada tutup dagang kamis september merosot persen posisi usd won korea selatan saham yg entertainment lesu media korea selatan abar anggota blackpink menandatangani kontrak yg entertaiment sport seoul dasar nyata sosok industri musik anggota blackpink jisoo jennie lisa menandatangani kontrak label rose blackpink baru kontrak yg sports seoul anggota diskus menit menit strategi pisah anggota blackpink menandatangani kontrak label habis enam blackpink kutip soompi jumat september yg entertaiment rilis nyata singkat kait diskusi panjang kontrak anggota blackpink turut orang industri september rose salah anggota blackpink menandatangani janji baru kontrak yg entertainment anggota sisa jennie jisoo lisa kabar negosiasi pindah agens partisipasi aktivitas blackpink enam bulan tanggap lapor yg entertainment panjang kontrak blackpink konfirmasi bahas kontrak blackpink yg entertainment\n",
      "saham agens k pop yg entertainment anjlok persen dagang jumat koreksi saham yg entertainment media korea selatan lapor anggota blackpink lisa tolak tawar panjang kontrak agens sebut kutip cnbc harga saham yg entertainment merosot turun besar september artikel tulis saham yg entertainment inc gelincir persen posisi krw turut media korea selatan star news lisa blackpink tolak tawar yg besar kontrak lapor nila miliar won usd juta rp miliar asumsi won korea selatan rupiah kisar hal susul lapor juli lisa blackpink temu sepakat panjang kontrak agens saat media korea selatan newsen lapor yg tanggap diskusi baru kontrak munhwa ilbo lapor beda belah besar kabar muncul blackpink selesai tur dunia born pink salah tur dunia besar grup perempuan k pop tarik juta orang kota oktober blackpink gelar tur september seoul korea selatan kutip laman allkpop lisa kabar terima tawar giur negeri negara asal thailand nila ratus miliar won kabar lisa tolak proposal yg tawar panjang rumor yg tawar miliar won lisa blackpink jisoo jennie rose lisa salah grup k pop sukses yg entertainment grup anggota orang debut yg agustus grup k pop menandatangani kontrak durasi tujuh kontrak blackpink agustus agens konfirmasi baru kontrak apa salah anggota\n",
      "saham yg entertainment turun persen kabar baru kontrak girl grup blackpink saham yg dagang krw tempat harga saham yg entertainment sentuh level rendah mei saham usaha tutup posisi krw lapor eksklusif munhwa ilbo kutip cnbc international rabu lisa yg entertainment tahap diskusi baru kontrak sepakat tuntut syarat jauh sementara negosiasi panjang kontrak yg entertainment member blackpink jennie jisoo ros jalan lancar anggota yg entertainment tuju syarat tuju panjang kontrak yg entertainment komentar yg entertainment minta acara china hubung situasi baru kontrak kait tur blackpink jadwal pribadi lisa blackpink meski yg entertainment bicara kait panjang kontrak blackpink panjang kontrak diskusi member grup idol kpop blackpink langsung rangkai tur konser born pink oktober adapun giat grup putus yg entertainment resmi umum status kontrak anggota usaha blackpink anggota jisoo jennie ros lisa salah grup k pop sukses yg entertainment grup anggota orang debut yg agustus grup k pop menandatangani kontrak tujuh kontrak blackpink agustus ini grup grup artis asia k pop headline festival coachella as band k pop headline festival inggris festival bst hyde park blackpink pegang rekor dunia guinness kanal musik youtube grup kalah band pop as maroon april\n",
      "nama ragil kembar dwi suryo akrab sapa immanuel ragil diam diam sosok sukses talenta muda bakat karier industri hibur tanah air nama nama sukses dycal siahaan bagas ran mahen tangan nama nama artis naung mudah dukung nama karya karya artis kenal masyarakat luas tantang sendiri ragil temu kawasan sawah jakarta pusat ragil cerita perihal lika liku manajer artis turut kerja gelut tantang karakter watak beda untuk meng handle artis talenta muda mudah ya karakter beda beda otomatis hadap beda unik lucu ya kesal kayak nano nano seru banget frekuensi gue capek nge handle immanuel ragil terang\n",
      "pusat hibur keluarga timezone umum luas venuenya letak lantai summarecon mall serpong tawar alam main game total luas area meter persegi mesin main unjung timezone harap senang seru belum unjung timezone rasa seru perang teman laser tag arena sedia seru perang laser main ikut sukses games vr hologate summarecon mall kelapa gading unjung nikmat vr hologate mall summarecon serpong untuk cinta bowling timezone hadir lintas social bowling lintas short lane bowling lintas medium lane bowling dengan lintas bowling unjung mudah nikmat seru main bowling lupa area party room tampung orang mudah acara pesta ulang corporate gathering nyaman senang turut ceo presiden direktur timezone indonesia naveen h komitmen penuh alam baik keluarga indonesia naveen putus luas area timezone summarecon mal serpong fokus utama sedia akses batas keluarga indonesia nikmat alam main game dengan pilih mesin main baik timezone alam dalam lupa unjung\n",
      "main musik sangka nyanyi wanita talenta angie zelena piawai main ice skating aku ikut kompetisi ice skating tingkat internasional ia anggap ice skating hibur sibuk musik angie sangka olahraga hobi hibur antar raih medali emas aku ice skating hibur banget musik semangat kompetisi angie warta sabtu sudah kali kompetisi ice skating tingkat internasional bangga angie\n",
      "vokalis band wali farhan zainal muttaqin kenal faank wali ikut kaji hadir habib umar bin hafidz jakarta sempat faank profesi dunia hibur faank aku datang habib umar bin hafidz tanah air tambah cinta rasulullah saw sempat langka jumpa ulama tarim manfaat amal manajemen iman muslim faank cerita dunia hibur gelut maksiat dosa kerja entertainment umrah nikmat ibadah maksimal me manage iman iman kurang kurang banget ya habib me manage faank wali tayang youtube nabawi tv selasa tanya faank wali habib umar senyum dengar vokalis salah band musik indonesia rindu takwa allah swt\n",
      "lalisa manoban kenal nama lisa blackpink sorot kali perempuan usia sabet gelar selebritas asia bayar unggah instagram bayar endorse lansir asiaone sabtu agustus unggah bagi lisa blackpink instagram tarif dolar as rp miliar kabar instagram rich list baru rilis platform manajemen pasar media sosial hopper hq saat lisa tempat peringkat selebritas hibur asia posisi tinggi daftar berita tulis selebritas naung agens yg entertainment milik juta ikut instagram kutip kanal regional liputancom senin lantun money lahir buriram thailand nama lengkap lalisa manoban nama asli pranpriya manoban punya badan cm berat badan kg lisa proporsi badan model debut blackpink lisa model brand agens saat kali debut lisa blackpink colok personel blackpink debut gemar korea selatan pikat karisma milik pada pilih nama panggung lisa tari utama rapper utama vokalis dukung muda alias maknae industri k pop girl grup k pop blackpink debut agustus\n"
     ]
    },
    {
     "data": {
      "text/html": [
       "<div>\n",
       "<style scoped>\n",
       "    .dataframe tbody tr th:only-of-type {\n",
       "        vertical-align: middle;\n",
       "    }\n",
       "\n",
       "    .dataframe tbody tr th {\n",
       "        vertical-align: top;\n",
       "    }\n",
       "\n",
       "    .dataframe thead th {\n",
       "        text-align: right;\n",
       "    }\n",
       "</style>\n",
       "<table border=\"1\" class=\"dataframe\">\n",
       "  <thead>\n",
       "    <tr style=\"text-align: right;\">\n",
       "      <th></th>\n",
       "      <th>Teks</th>\n",
       "      <th>Media</th>\n",
       "      <th>Label</th>\n",
       "    </tr>\n",
       "  </thead>\n",
       "  <tbody>\n",
       "    <tr>\n",
       "      <th>0</th>\n",
       "      <td>sekjen partai gerindra ahmad muzani singgung c...</td>\n",
       "      <td>Detikcom</td>\n",
       "      <td>Politik</td>\n",
       "    </tr>\n",
       "    <tr>\n",
       "      <th>1</th>\n",
       "      <td>sekjen partai gerindra ahmad muzani singgung c...</td>\n",
       "      <td>Detikcom</td>\n",
       "      <td>Politik</td>\n",
       "    </tr>\n",
       "    <tr>\n",
       "      <th>2</th>\n",
       "      <td>calon wakil presiden bacawapres koalisi ubah m...</td>\n",
       "      <td>Detikcom</td>\n",
       "      <td>Politik</td>\n",
       "    </tr>\n",
       "    <tr>\n",
       "      <th>3</th>\n",
       "      <td>polres indramayu terjun pondok pesantren ponpe...</td>\n",
       "      <td>Detikcom</td>\n",
       "      <td>Politik</td>\n",
       "    </tr>\n",
       "    <tr>\n",
       "      <th>4</th>\n",
       "      <td>menteri agama jabat ketua tum gp ansor yaqut c...</td>\n",
       "      <td>Detikcom</td>\n",
       "      <td>Politik</td>\n",
       "    </tr>\n",
       "  </tbody>\n",
       "</table>\n",
       "</div>"
      ],
      "text/plain": [
       "                                                Teks     Media    Label\n",
       "0  sekjen partai gerindra ahmad muzani singgung c...  Detikcom  Politik\n",
       "1  sekjen partai gerindra ahmad muzani singgung c...  Detikcom  Politik\n",
       "2  calon wakil presiden bacawapres koalisi ubah m...  Detikcom  Politik\n",
       "3  polres indramayu terjun pondok pesantren ponpe...  Detikcom  Politik\n",
       "4  menteri agama jabat ketua tum gp ansor yaqut c...  Detikcom  Politik"
      ]
     },
     "execution_count": 6,
     "metadata": {},
     "output_type": "execute_result"
    }
   ],
   "source": [
    "from sklearn.pipeline import Pipeline\n",
    "from Sastrawi.Stemmer.StemmerFactory import StemmerFactory\n",
    "\n",
    "def stemming(Teks):\n",
    "    factory = StemmerFactory()\n",
    "    stemmer = factory.create_stemmer()\n",
    "    do = []\n",
    "    for w in Teks:\n",
    "        dt = stemmer.stem(w)\n",
    "        do.append(dt)\n",
    "    d_clean=[]\n",
    "    d_clean= \" \".join(do)\n",
    "    print(d_clean) \n",
    "    return d_clean\n",
    "data[ 'Teks']= data['Teks'].apply(stemming)\n",
    "\n",
    "data.to_csv('data_stemming.csv', index=False)\n",
    "data_clean_stem= pd.read_csv('data_stemming.csv', encoding='latin1')\n",
    "data_clean_stem.head()"
   ]
  },
  {
   "cell_type": "code",
   "execution_count": 7,
   "metadata": {},
   "outputs": [
    {
     "data": {
      "text/plain": [
       "Teks     string[python]\n",
       "Media            object\n",
       "Label          category\n",
       "dtype: object"
      ]
     },
     "execution_count": 7,
     "metadata": {},
     "output_type": "execute_result"
    }
   ],
   "source": [
    "data_clean_stem = data_clean_stem.astype({'Label' : 'category'})\n",
    "data_clean_stem = data_clean_stem.astype({'Teks' : 'string'})\n",
    "data_clean_stem.dtypes"
   ]
  },
  {
   "cell_type": "markdown",
   "metadata": {},
   "source": [
    "**TF/IDF**"
   ]
  },
  {
   "cell_type": "code",
   "execution_count": 31,
   "metadata": {},
   "outputs": [
    {
     "data": {
      "text/plain": [
       "<90x3823 sparse matrix of type '<class 'numpy.float64'>'\n",
       "\twith 9888 stored elements in Compressed Sparse Row format>"
      ]
     },
     "execution_count": 31,
     "metadata": {},
     "output_type": "execute_result"
    }
   ],
   "source": [
    "# proses TF-IDF dan\n",
    "from sklearn.feature_extraction.text import CountVectorizer\n",
    "from sklearn.feature_extraction.text import TfidfVectorizer\n",
    "tf = TfidfVectorizer()\n",
    "text_tf =tf.fit_transform(data_clean_stem['Teks'].astype('U'))\n",
    "text_tf"
   ]
  },
  {
   "cell_type": "code",
   "execution_count": 35,
   "metadata": {},
   "outputs": [
    {
     "ename": "SyntaxError",
     "evalue": "invalid syntax. Maybe you meant '==' or ':=' instead of '='? (1270398445.py, line 3)",
     "output_type": "error",
     "traceback": [
      "\u001b[1;36m  Cell \u001b[1;32mIn[35], line 3\u001b[1;36m\u001b[0m\n\u001b[1;33m    X_train, X_test, y_train, y_test= train_test_split(text_tf, data_clean_stem['VALUE', test_size=0.2, random_state=42])\u001b[0m\n\u001b[1;37m                                                                                         ^\u001b[0m\n\u001b[1;31mSyntaxError\u001b[0m\u001b[1;31m:\u001b[0m invalid syntax. Maybe you meant '==' or ':=' instead of '='?\n"
     ]
    }
   ],
   "source": [
    "#spliting data\n",
    "from sklearn.model_selection import train_test_split\n",
    "X_train, X_test, y_train, y_test= train_test_split(text_tf, data_clean_stem['VALUE', test_size=0.2, random_state=42])\n"
   ]
  },
  {
   "cell_type": "code",
   "execution_count": 41,
   "metadata": {},
   "outputs": [
    {
     "name": "stdout",
     "output_type": "stream",
     "text": [
      "MultinomialNB Accuracy: 0.8333333333333334\n"
     ]
    },
    {
     "ename": "TypeError",
     "evalue": "precision_score() got an unexpected keyword argument 'Label'",
     "output_type": "error",
     "traceback": [
      "\u001b[1;31m---------------------------------------------------------------------------\u001b[0m",
      "\u001b[1;31mTypeError\u001b[0m                                 Traceback (most recent call last)",
      "\u001b[1;32md:\\Semester 5\\UTS\\Text Mining\\Fix Data Collection\\final_textpreprocessing.ipynb Cell 17\u001b[0m line \u001b[0;36m1\n\u001b[0;32m      <a href='vscode-notebook-cell:/d%3A/Semester%205/UTS/Text%20Mining/Fix%20Data%20Collection/final_textpreprocessing.ipynb#X55sZmlsZQ%3D%3D?line=7'>8</a>\u001b[0m predicted \u001b[39m=\u001b[39m clf\u001b[39m.\u001b[39mpredict(X_test)\n\u001b[0;32m      <a href='vscode-notebook-cell:/d%3A/Semester%205/UTS/Text%20Mining/Fix%20Data%20Collection/final_textpreprocessing.ipynb#X55sZmlsZQ%3D%3D?line=8'>9</a>\u001b[0m \u001b[39mprint\u001b[39m(\u001b[39m\"\u001b[39m\u001b[39mMultinomialNB Accuracy:\u001b[39m\u001b[39m\"\u001b[39m, accuracy_score(y_test,predicted))\n\u001b[1;32m---> <a href='vscode-notebook-cell:/d%3A/Semester%205/UTS/Text%20Mining/Fix%20Data%20Collection/final_textpreprocessing.ipynb#X55sZmlsZQ%3D%3D?line=9'>10</a>\u001b[0m \u001b[39mprint\u001b[39m(\u001b[39m\"\u001b[39m\u001b[39mMultinomialNB Precision:\u001b[39m\u001b[39m\"\u001b[39m,precision_score(y_test,predicted,average\u001b[39m=\u001b[39;49m\u001b[39m\"\u001b[39;49m\u001b[39mLabel\u001b[39;49m\u001b[39m\"\u001b[39;49m, Label\u001b[39m=\u001b[39;49m\u001b[39m\"\u001b[39;49m\u001b[39mPolitik\u001b[39;49m\u001b[39m\"\u001b[39;49m))\n\u001b[0;32m     <a href='vscode-notebook-cell:/d%3A/Semester%205/UTS/Text%20Mining/Fix%20Data%20Collection/final_textpreprocessing.ipynb#X55sZmlsZQ%3D%3D?line=10'>11</a>\u001b[0m \u001b[39mprint\u001b[39m(\u001b[39m\"\u001b[39m\u001b[39mMultinomialNB Recall:\u001b[39m\u001b[39m\"\u001b[39m, recall_score(y_test,predicted,average\u001b[39m=\u001b[39m\u001b[39m\"\u001b[39m\u001b[39mLabel\u001b[39m\u001b[39m\"\u001b[39m, Label\u001b[39m=\u001b[39m\u001b[39m\"\u001b[39m\u001b[39mPolitik\u001b[39m\u001b[39m\"\u001b[39m))\n\u001b[0;32m     <a href='vscode-notebook-cell:/d%3A/Semester%205/UTS/Text%20Mining/Fix%20Data%20Collection/final_textpreprocessing.ipynb#X55sZmlsZQ%3D%3D?line=11'>12</a>\u001b[0m \u001b[39mprint\u001b[39m(\u001b[39m\"\u001b[39m\u001b[39mMultinomialNB f1_score:\u001b[39m\u001b[39m\"\u001b[39m,f1_score(y_test,predicted, average\u001b[39m=\u001b[39m\u001b[39m\"\u001b[39m\u001b[39mLabel\u001b[39m\u001b[39m\"\u001b[39m, Label\u001b[39m=\u001b[39m\u001b[39m\"\u001b[39m\u001b[39mPolitik\u001b[39m\u001b[39m\"\u001b[39m))\n",
      "\u001b[1;31mTypeError\u001b[0m: precision_score() got an unexpected keyword argument 'Label'"
     ]
    }
   ],
   "source": [
    "#peforma algoritma Naive Bayes\n",
    "from sklearn.naive_bayes import MultinomialNB\n",
    "from sklearn.metrics import accuracy_score, precision_score, recall_score, f1_score\n",
    "from sklearn.metrics import classification_report\n",
    "from sklearn.metrics import confusion_matrix\n",
    "\n",
    "clf= MultinomialNB().fit(X_train, y_train)\n",
    "predicted = clf.predict(X_test)\n",
    "print(\"MultinomialNB Accuracy:\", accuracy_score(y_test,predicted))\n",
    "print(\"MultinomialNB Precision:\",precision_score(y_test,predicted,average=\"Label\", Label=\"Politik\"))\n",
    "print(\"MultinomialNB Recall:\", recall_score(y_test,predicted,average=\"Label\", Label=\"Politik\"))\n",
    "print(\"MultinomialNB f1_score:\",f1_score(y_test,predicted, average=\"Label\", Label=\"Politik\"))\n",
    "print(f'confusion matrix:\\n{confusion_matrix(y_test,predicted)}')\n",
    "print('--------------------------------------------------------------------')\n",
    "print(classification_report(y_test,predicted,zero_division=0))"
   ]
  },
  {
   "cell_type": "markdown",
   "metadata": {},
   "source": [
    "**Count Data From Label News**"
   ]
  },
  {
   "cell_type": "code",
   "execution_count": 39,
   "metadata": {},
   "outputs": [
    {
     "data": {
      "image/png": "[encoded data removed]",
      "text/plain": [
       "<Figure size 1000x700 with 1 Axes>"
      ]
     },
     "metadata": {},
     "output_type": "display_data"
    }
   ],
   "source": [
    "import matplotlib\n",
    "\n",
    "import matplotlib.pyplot as plt\n",
    "# Barplot\n",
    "df_plot = data['Label'].value_counts().rename_axis('Sentiment').reset_index(name = 'Counts')\n",
    "\n",
    "y = df_plot['Counts']\n",
    "x = df_plot['Sentiment']\n",
    "\n",
    "# Figure Size\n",
    "fig = plt.figure(figsize =(10, 7))\n",
    "\n",
    "plt.bar(x, y, width = 0.4)\n",
    "plt.xlabel('Sentiment')\n",
    "plt.ylabel('Value count')\n",
    "plt.show()"
   ]
  }
 ],
 "metadata": {
  "kernelspec": {
   "display_name": "Python 3",
   "language": "python",
   "name": "python3"
  },
  "language_info": {
   "codemirror_mode": {
    "name": "ipython",
    "version": 3
   },
   "file_extension": ".py",
   "mimetype": "text/x-python",
   "name": "python",
   "nbconvert_exporter": "python",
   "pygments_lexer": "ipython3",
   "version": "3.11.3"
  }
 },
 "nbformat": 4,
 "nbformat_minor": 2
}
