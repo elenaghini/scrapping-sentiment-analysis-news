{
 "cells": [
  {
   "cell_type": "markdown",
   "metadata": {
    "vscode": {
     "languageId": "latex"
    }
   },
   "source": [
    "Nama : Elena Ghini Rachman\n",
    "NIM : 2502055204\n",
    "MID EXAM Text Mining odd semester 2023/2024"
   ]
  },
  {
   "cell_type": "markdown",
   "metadata": {
    "vscode": {
     "languageId": "latex"
    }
   },
   "source": [
    "Code ini untuk mendapatkan data text berita (scraping data) menggunakan bahasa Python"
   ]
  },
  {
   "cell_type": "markdown",
   "metadata": {},
   "source": [
    "***Detikcom***"
   ]
  },
  {
   "cell_type": "code",
   "execution_count": 56,
   "metadata": {},
   "outputs": [],
   "source": [
    "import requests as req\n",
    "from bs4 import BeautifulSoup as bs\n",
    "import csv\n",
    "\n",
    "hades = {'user-agent': 'Mozilla/5.0 (Windows NT 10.0; Win64; x64) AppleWebKit/537.36 (KHTML, like Gecko) Chrome/106.0.0.0 Safari/537.36'}"
   ]
  },
  {
   "cell_type": "code",
   "execution_count": 62,
   "metadata": {},
   "outputs": [],
   "source": [
    "def scrape_detik(hal):\n",
    "    global hades\n",
    "    a = 1\n",
    "    for page in range(1, hal):\n",
    "        url = f'https://www.detik.com/search/searchnews?query=pemilu+2024&sortby=time&page={page}'\n",
    "        ge = req.get(url, hades).text\n",
    "        sop = bs(ge, 'lxml')\n",
    "        li = sop.find('div', class_='list media_rows list-berita')\n",
    "        lin = li.find_all('article')\n",
    "        for x in lin:\n",
    "            link = x.find('a')['href']\n",
    "            ge_ = req.get(link, hades).text\n",
    "            sop_ = bs(ge_, 'lxml')\n",
    "            content = sop_.find_all('div', class_='detail__body-text itp_bodycontent')\n",
    "            for x in content:\n",
    "                x = x.find_all('p')\n",
    "                y = [y.text for y in x]\n",
    "                content_ = ''.join(y).replace('\\n', '').replace('ADVERTISEMENT', '').replace('SCROLL TO RESUME CONTENT', '')\n",
    "\n",
    "                # Tambahkan kolom \"teks\" dengan isi content_\n",
    "                # Tambahkan kolom \"media\" dengan isi \"detikcom\"\n",
    "                # Tambahkan kolom \"label\" dengan isi kosong\n",
    "                with open('DetikcomScrapingPolitik.csv', 'a', newline='') as file:\n",
    "                    fieldnames = ['Teks', 'Media', 'Label']\n",
    "                    wr = csv.DictWriter(file, fieldnames=fieldnames, delimiter=',')\n",
    "                    if a == 1:\n",
    "                        wr.writeheader()\n",
    "                    wr.writerow({'Teks': content_, 'Media': 'Detikcom', 'Label': ''})\n",
    "\n",
    "                print(f'done[{a}] > {content_[:10]}')\n",
    "                a += 1\n",
    "\n",
    "                if a == 11:\n",
    "                    return\n"
   ]
  },
  {
   "cell_type": "code",
   "execution_count": 63,
   "metadata": {},
   "outputs": [
    {
     "name": "stdout",
     "output_type": "stream",
     "text": [
      "done[1] > Sekjen Par\n",
      "done[2] > Sekjen Par\n",
      "done[3] > Bakal calo\n",
      "done[4] > Polres Ind\n",
      "done[5] > Menteri Ag\n",
      "done[6] > Bakal Calo\n",
      "done[7] > Bacawapres\n",
      "done[8] > Kelompok m\n",
      "done[9] > Polres Mal\n",
      "done[10] > Pengacara \n"
     ]
    }
   ],
   "source": [
    "scrape_detik(3)\n"
   ]
  },
  {
   "cell_type": "code",
   "execution_count": 64,
   "metadata": {},
   "outputs": [],
   "source": [
    "import pandas as pd\n",
    "pol = pd.read_csv(r'D:\\Semester 5\\UTS\\Text Mining\\Fix Data Collection\\DetikcomScrapingPolitik.csv')\n"
   ]
  },
  {
   "cell_type": "code",
   "execution_count": 65,
   "metadata": {},
   "outputs": [
    {
     "data": {
      "text/html": [
       "<div>\n",
       "<style scoped>\n",
       "    .dataframe tbody tr th:only-of-type {\n",
       "        vertical-align: middle;\n",
       "    }\n",
       "\n",
       "    .dataframe tbody tr th {\n",
       "        vertical-align: top;\n",
       "    }\n",
       "\n",
       "    .dataframe thead th {\n",
       "        text-align: right;\n",
       "    }\n",
       "</style>\n",
       "<table border=\"1\" class=\"dataframe\">\n",
       "  <thead>\n",
       "    <tr style=\"text-align: right;\">\n",
       "      <th></th>\n",
       "      <th>Teks</th>\n",
       "      <th>Media</th>\n",
       "      <th>Label</th>\n",
       "    </tr>\n",
       "  </thead>\n",
       "  <tbody>\n",
       "    <tr>\n",
       "      <th>0</th>\n",
       "      <td>Sekjen Partai Gerindra, Ahmad Muzani, menyingg...</td>\n",
       "      <td>Detikcom</td>\n",
       "      <td>NaN</td>\n",
       "    </tr>\n",
       "    <tr>\n",
       "      <th>1</th>\n",
       "      <td>Sekjen Partai Gerindra, Ahmad Muzani, menyingg...</td>\n",
       "      <td>Detikcom</td>\n",
       "      <td>NaN</td>\n",
       "    </tr>\n",
       "    <tr>\n",
       "      <th>2</th>\n",
       "      <td>Bakal calon wakil presiden (bacawapres) Koalis...</td>\n",
       "      <td>Detikcom</td>\n",
       "      <td>NaN</td>\n",
       "    </tr>\n",
       "    <tr>\n",
       "      <th>3</th>\n",
       "      <td>Polres Indramayu terjun ke sejumlah pondok pes...</td>\n",
       "      <td>Detikcom</td>\n",
       "      <td>NaN</td>\n",
       "    </tr>\n",
       "    <tr>\n",
       "      <th>4</th>\n",
       "      <td>Menteri Agama yang juga menjabat sebagai Ketua...</td>\n",
       "      <td>Detikcom</td>\n",
       "      <td>NaN</td>\n",
       "    </tr>\n",
       "    <tr>\n",
       "      <th>5</th>\n",
       "      <td>Bakal Calon Presiden (Bacapres) Ganjar Pranowo...</td>\n",
       "      <td>Detikcom</td>\n",
       "      <td>NaN</td>\n",
       "    </tr>\n",
       "    <tr>\n",
       "      <th>6</th>\n",
       "      <td>Bacawapres Mahfud Md memberi bekal kepada para...</td>\n",
       "      <td>Detikcom</td>\n",
       "      <td>NaN</td>\n",
       "    </tr>\n",
       "    <tr>\n",
       "      <th>7</th>\n",
       "      <td>Kelompok masyarakat di Jawa Tengah (Jateng) me...</td>\n",
       "      <td>Detikcom</td>\n",
       "      <td>NaN</td>\n",
       "    </tr>\n",
       "    <tr>\n",
       "      <th>8</th>\n",
       "      <td>Polres Malang gencar menjaga sinergi dan kerja...</td>\n",
       "      <td>Detikcom</td>\n",
       "      <td>NaN</td>\n",
       "    </tr>\n",
       "    <tr>\n",
       "      <th>9</th>\n",
       "      <td>Pengacara Otto Hasibuan didapuk sebagai Wakil ...</td>\n",
       "      <td>Detikcom</td>\n",
       "      <td>NaN</td>\n",
       "    </tr>\n",
       "  </tbody>\n",
       "</table>\n",
       "</div>"
      ],
      "text/plain": [
       "                                                Teks     Media  Label\n",
       "0  Sekjen Partai Gerindra, Ahmad Muzani, menyingg...  Detikcom    NaN\n",
       "1  Sekjen Partai Gerindra, Ahmad Muzani, menyingg...  Detikcom    NaN\n",
       "2  Bakal calon wakil presiden (bacawapres) Koalis...  Detikcom    NaN\n",
       "3  Polres Indramayu terjun ke sejumlah pondok pes...  Detikcom    NaN\n",
       "4  Menteri Agama yang juga menjabat sebagai Ketua...  Detikcom    NaN\n",
       "5  Bakal Calon Presiden (Bacapres) Ganjar Pranowo...  Detikcom    NaN\n",
       "6  Bacawapres Mahfud Md memberi bekal kepada para...  Detikcom    NaN\n",
       "7  Kelompok masyarakat di Jawa Tengah (Jateng) me...  Detikcom    NaN\n",
       "8  Polres Malang gencar menjaga sinergi dan kerja...  Detikcom    NaN\n",
       "9  Pengacara Otto Hasibuan didapuk sebagai Wakil ...  Detikcom    NaN"
      ]
     },
     "execution_count": 65,
     "metadata": {},
     "output_type": "execute_result"
    }
   ],
   "source": [
    "pol"
   ]
  },
  {
   "cell_type": "code",
   "execution_count": 31,
   "metadata": {},
   "outputs": [],
   "source": [
    "#dibawah ini code jika mau scraping untuk lebih dari dari 10 mislanya 30han untuk di bawah ini ya\n",
    "#dan ini buat percobaan aja ga dipake sama Elena buat project ini \n",
    "def scrape_detik(hal):\n",
    "    global hades\n",
    "    a = 1\n",
    "    for page in range(1,hal):\n",
    "        url = f'https://www.detik.com/search/searchnews?query=pemilu+2024&sortby=time&page={page}'\n",
    "        ge = req.get(url,hades).text\n",
    "        sop = bs(ge,'lxml')\n",
    "        li = sop.find('div',class_='list media_rows list-berita')\n",
    "        lin = li.find_all('article')\n",
    "        for x in lin:\n",
    "            link = x.find('a')['href']\n",
    "            date = x.find('a').find('span',class_='date').text.replace('WIB','').replace('detikNews','').split(',')[1]\n",
    "            headline = x.find('a').find('h2').text\n",
    "            ge_ = req.get(link,hades).text\n",
    "            sop_ = bs(ge_,'lxml')\n",
    "            content = sop_.find_all('div',class_='detail__body-text itp_bodycontent')\n",
    "            for x in content:\n",
    "                x = x.find_all('p')\n",
    "                y  = [y.text for y in x ]\n",
    "                content_ = ''.join(y).replace('\\n', '').replace('ADVERTISEMENT','').replace('SCROLL TO RESUME CONTENT','')\n",
    "                print(f'done[{a}] > {headline[0:10]}')\n",
    "                a += 1\n",
    "                with open('politik.csv','a')as file:\n",
    "                    wr = csv.writer(file, delimiter=',')\n",
    "                    wr.writerow([headline,date,link,content_])"
   ]
  },
  {
   "cell_type": "code",
   "execution_count": null,
   "metadata": {
    "vscode": {
     "languageId": "latex"
    }
   },
   "outputs": [],
   "source": [
    "Dibawah ini Scraping untuk olahraga di detikcom"
   ]
  },
  {
   "cell_type": "code",
   "execution_count": 66,
   "metadata": {},
   "outputs": [],
   "source": [
    "import requests as req\n",
    "from bs4 import BeautifulSoup as bs\n",
    "import csv\n",
    "\n",
    "hades = {'user-agent': 'Mozilla/5.0 (Windows NT 10.0; Win64; x64) AppleWebKit/537.36 (KHTML, like Gecko) Chrome/106.0.0.0 Safari/537.36'}"
   ]
  },
  {
   "cell_type": "code",
   "execution_count": 67,
   "metadata": {},
   "outputs": [],
   "source": [
    "def scrape_detik1(hal):\n",
    "    global hades\n",
    "    a = 1\n",
    "    for page in range(1, hal):\n",
    "        url = f'https://www.detik.com/search/searchnews?query=sport&sortby=time&page={page}'\n",
    "        ge = req.get(url, hades).text\n",
    "        sop = bs(ge, 'lxml')\n",
    "        li = sop.find('div', class_='list media_rows list-berita')\n",
    "        lin = li.find_all('article')\n",
    "        for x in lin:\n",
    "            link = x.find('a')['href']\n",
    "            ge_ = req.get(link, hades).text\n",
    "            sop_ = bs(ge_, 'lxml')\n",
    "            content = sop_.find_all('div', class_='detail__body-text itp_bodycontent')\n",
    "            for x in content:\n",
    "                x = x.find_all('p')\n",
    "                y = [y.text for y in x]\n",
    "                content_ = ''.join(y).replace('\\n', '').replace('ADVERTISEMENT', '').replace('SCROLL TO RESUME CONTENT', '')\n",
    "                with open('DetikcomScrapingOlahraga.csv', 'a', newline='') as file:\n",
    "                    fieldnames = ['Teks', 'Media', 'Label']\n",
    "                    wr = csv.DictWriter(file, fieldnames=fieldnames, delimiter=',')\n",
    "                    if a == 1:\n",
    "                        wr.writeheader()\n",
    "                    wr.writerow({'Teks': content_, 'Media': 'Detikcom', 'Label': ''})\n",
    "\n",
    "                print(f'done[{a}] > {content_[:10]}')\n",
    "                a += 1\n",
    "\n",
    "                if a == 11:\n",
    "                    return\n"
   ]
  },
  {
   "cell_type": "code",
   "execution_count": 68,
   "metadata": {},
   "outputs": [
    {
     "name": "stdout",
     "output_type": "stream",
     "text": [
      "done[1] > Inter Mila\n",
      "done[2] > Calon waki\n",
      "done[3] > Penjualan \n",
      "done[4] > Mobil Paje\n",
      "done[5] > Lamborghin\n",
      "done[6] > Seorang at\n",
      "done[7] > Dua rekrut\n",
      "done[8] > Rasmus Hoj\n",
      "done[9] > Moge atau \n",
      "done[10] > Hujan dise\n"
     ]
    }
   ],
   "source": [
    "scrape_detik1(3)\n"
   ]
  },
  {
   "cell_type": "code",
   "execution_count": 69,
   "metadata": {},
   "outputs": [],
   "source": [
    "import pandas as pd\n",
    "ol = pd.read_csv(r'D:\\Semester 5\\UTS\\Text Mining\\Fix Data Collection\\DetikcomScrapingOlahraga.csv')\n"
   ]
  },
  {
   "cell_type": "code",
   "execution_count": 70,
   "metadata": {},
   "outputs": [
    {
     "data": {
      "text/html": [
       "<div>\n",
       "<style scoped>\n",
       "    .dataframe tbody tr th:only-of-type {\n",
       "        vertical-align: middle;\n",
       "    }\n",
       "\n",
       "    .dataframe tbody tr th {\n",
       "        vertical-align: top;\n",
       "    }\n",
       "\n",
       "    .dataframe thead th {\n",
       "        text-align: right;\n",
       "    }\n",
       "</style>\n",
       "<table border=\"1\" class=\"dataframe\">\n",
       "  <thead>\n",
       "    <tr style=\"text-align: right;\">\n",
       "      <th></th>\n",
       "      <th>Teks</th>\n",
       "      <th>Media</th>\n",
       "      <th>Label</th>\n",
       "    </tr>\n",
       "  </thead>\n",
       "  <tbody>\n",
       "    <tr>\n",
       "      <th>0</th>\n",
       "      <td>Inter Milan sudah menyegel tiket 16 besar Liga...</td>\n",
       "      <td>Detikcom</td>\n",
       "      <td>NaN</td>\n",
       "    </tr>\n",
       "    <tr>\n",
       "      <th>1</th>\n",
       "      <td>Calon wakil presiden (Cawapres) Gibran Rakabum...</td>\n",
       "      <td>Detikcom</td>\n",
       "      <td>NaN</td>\n",
       "    </tr>\n",
       "    <tr>\n",
       "      <th>2</th>\n",
       "      <td>Penjualan sepeda motor kembali mengalami penin...</td>\n",
       "      <td>Detikcom</td>\n",
       "      <td>NaN</td>\n",
       "    </tr>\n",
       "    <tr>\n",
       "      <th>3</th>\n",
       "      <td>Mobil Pajero Sport putih bernomor polisi A-22-...</td>\n",
       "      <td>Detikcom</td>\n",
       "      <td>NaN</td>\n",
       "    </tr>\n",
       "    <tr>\n",
       "      <th>4</th>\n",
       "      <td>Lamborghini, sebuah mobil berperforma tinggi d...</td>\n",
       "      <td>Detikcom</td>\n",
       "      <td>NaN</td>\n",
       "    </tr>\n",
       "    <tr>\n",
       "      <th>5</th>\n",
       "      <td>Seorang atlet berusia amat belia, Savero Altha...</td>\n",
       "      <td>Detikcom</td>\n",
       "      <td>NaN</td>\n",
       "    </tr>\n",
       "    <tr>\n",
       "      <th>6</th>\n",
       "      <td>Dua rekrutan baru PSIM Jogja, Kim Bong-jin dan...</td>\n",
       "      <td>Detikcom</td>\n",
       "      <td>NaN</td>\n",
       "    </tr>\n",
       "    <tr>\n",
       "      <th>7</th>\n",
       "      <td>Rasmus Hojlund mulai bersinar usai mencetak li...</td>\n",
       "      <td>Detikcom</td>\n",
       "      <td>NaN</td>\n",
       "    </tr>\n",
       "    <tr>\n",
       "      <th>8</th>\n",
       "      <td>Moge atau motor gede merupakan kendaraan bermo...</td>\n",
       "      <td>Detikcom</td>\n",
       "      <td>NaN</td>\n",
       "    </tr>\n",
       "    <tr>\n",
       "      <th>9</th>\n",
       "      <td>Hujan disertai angin kencang melanda Kota Mata...</td>\n",
       "      <td>Detikcom</td>\n",
       "      <td>NaN</td>\n",
       "    </tr>\n",
       "  </tbody>\n",
       "</table>\n",
       "</div>"
      ],
      "text/plain": [
       "                                                Teks     Media  Label\n",
       "0  Inter Milan sudah menyegel tiket 16 besar Liga...  Detikcom    NaN\n",
       "1  Calon wakil presiden (Cawapres) Gibran Rakabum...  Detikcom    NaN\n",
       "2  Penjualan sepeda motor kembali mengalami penin...  Detikcom    NaN\n",
       "3  Mobil Pajero Sport putih bernomor polisi A-22-...  Detikcom    NaN\n",
       "4  Lamborghini, sebuah mobil berperforma tinggi d...  Detikcom    NaN\n",
       "5  Seorang atlet berusia amat belia, Savero Altha...  Detikcom    NaN\n",
       "6  Dua rekrutan baru PSIM Jogja, Kim Bong-jin dan...  Detikcom    NaN\n",
       "7  Rasmus Hojlund mulai bersinar usai mencetak li...  Detikcom    NaN\n",
       "8  Moge atau motor gede merupakan kendaraan bermo...  Detikcom    NaN\n",
       "9  Hujan disertai angin kencang melanda Kota Mata...  Detikcom    NaN"
      ]
     },
     "execution_count": 70,
     "metadata": {},
     "output_type": "execute_result"
    }
   ],
   "source": [
    "ol"
   ]
  },
  {
   "cell_type": "code",
   "execution_count": null,
   "metadata": {
    "vscode": {
     "languageId": "latex"
    }
   },
   "outputs": [],
   "source": [
    "ini untuk bagian Entertainment"
   ]
  },
  {
   "cell_type": "code",
   "execution_count": 71,
   "metadata": {},
   "outputs": [],
   "source": [
    "import requests as req\n",
    "from bs4 import BeautifulSoup as bs\n",
    "import csv\n",
    "\n",
    "hades = {'user-agent': 'Mozilla/5.0 (Windows NT 10.0; Win64; x64) AppleWebKit/537.36 (KHTML, like Gecko) Chrome/106.0.0.0 Safari/537.36'}"
   ]
  },
  {
   "cell_type": "code",
   "execution_count": 72,
   "metadata": {},
   "outputs": [],
   "source": [
    "def scrape_detik2(hal):\n",
    "    global hades\n",
    "    a = 1\n",
    "    for page in range(1, hal):\n",
    "        url = f'https://www.detik.com/search/searchnews?query=entertainment&sortby=time&page={page}'\n",
    "        ge = req.get(url, hades).text\n",
    "        sop = bs(ge, 'lxml')\n",
    "        li = sop.find('div', class_='list media_rows list-berita')\n",
    "        lin = li.find_all('article')\n",
    "        for x in lin:\n",
    "            link = x.find('a')['href']\n",
    "            ge_ = req.get(link, hades).text\n",
    "            sop_ = bs(ge_, 'lxml')\n",
    "            content = sop_.find_all('div', class_='detail__body-text itp_bodycontent')\n",
    "            for x in content:\n",
    "                x = x.find_all('p')\n",
    "                y = [y.text for y in x]\n",
    "                content_ = ''.join(y).replace('\\n', '').replace('ADVERTISEMENT', '').replace('SCROLL TO RESUME CONTENT', '')\n",
    "                with open('DetikcomScrapingHiburan.csv', 'a', newline='') as file:\n",
    "                    fieldnames = ['Teks', 'Media', 'Label']\n",
    "                    wr = csv.DictWriter(file, fieldnames=fieldnames, delimiter=',')\n",
    "                    if a == 1:\n",
    "                        wr.writeheader()\n",
    "                    wr.writerow({'Teks': content_, 'Media': 'Detikcom', 'Label': ''})\n",
    "                print(f'done[{a}] > {content_[:10]}')\n",
    "                a += 1\n",
    "                if a == 11:\n",
    "                    return\n"
   ]
  },
  {
   "cell_type": "code",
   "execution_count": 73,
   "metadata": {},
   "outputs": [
    {
     "name": "stdout",
     "output_type": "stream",
     "text": [
      "done[1] > Semalam, B\n",
      "done[2] > Lagu Hilan\n",
      "done[3] > Dirilis ta\n",
      "done[4] > PK Enterta\n",
      "done[5] > Konser Col\n",
      "done[6] > Piala Duni\n",
      "done[7] > Konser Col\n",
      "done[8] > YG Enterta\n",
      "done[9] > Aktor Dall\n",
      "done[10] > Akhir Okto\n"
     ]
    }
   ],
   "source": [
    "scrape_detik2(3)\n"
   ]
  },
  {
   "cell_type": "code",
   "execution_count": 74,
   "metadata": {},
   "outputs": [],
   "source": [
    "import pandas as pd\n",
    "hi = pd.read_csv(r'D:\\Semester 5\\UTS\\Text Mining\\Fix Data Collection\\DetikcomScrapingHiburan.csv')\n"
   ]
  },
  {
   "cell_type": "code",
   "execution_count": 75,
   "metadata": {},
   "outputs": [
    {
     "data": {
      "text/html": [
       "<div>\n",
       "<style scoped>\n",
       "    .dataframe tbody tr th:only-of-type {\n",
       "        vertical-align: middle;\n",
       "    }\n",
       "\n",
       "    .dataframe tbody tr th {\n",
       "        vertical-align: top;\n",
       "    }\n",
       "\n",
       "    .dataframe thead th {\n",
       "        text-align: right;\n",
       "    }\n",
       "</style>\n",
       "<table border=\"1\" class=\"dataframe\">\n",
       "  <thead>\n",
       "    <tr style=\"text-align: right;\">\n",
       "      <th></th>\n",
       "      <th>Teks</th>\n",
       "      <th>Media</th>\n",
       "      <th>Label</th>\n",
       "    </tr>\n",
       "  </thead>\n",
       "  <tbody>\n",
       "    <tr>\n",
       "      <th>0</th>\n",
       "      <td>Semalam, Bring Me The Horizon (BMTH) menggelar...</td>\n",
       "      <td>Detikcom</td>\n",
       "      <td>NaN</td>\n",
       "    </tr>\n",
       "    <tr>\n",
       "      <th>1</th>\n",
       "      <td>Lagu Hilang Tanpa Bilang milik Meiska berhasil...</td>\n",
       "      <td>Detikcom</td>\n",
       "      <td>NaN</td>\n",
       "    </tr>\n",
       "    <tr>\n",
       "      <th>2</th>\n",
       "      <td>Dirilis tahun 2020, lagu WANNABE ITZY rupanya ...</td>\n",
       "      <td>Detikcom</td>\n",
       "      <td>NaN</td>\n",
       "    </tr>\n",
       "    <tr>\n",
       "      <th>3</th>\n",
       "      <td>PK Entertainment selaku promotor konser Coldpl...</td>\n",
       "      <td>Detikcom</td>\n",
       "      <td>NaN</td>\n",
       "    </tr>\n",
       "    <tr>\n",
       "      <th>4</th>\n",
       "      <td>Konser Coldplay di Jakarta akan digelar pada 1...</td>\n",
       "      <td>Detikcom</td>\n",
       "      <td>NaN</td>\n",
       "    </tr>\n",
       "    <tr>\n",
       "      <th>5</th>\n",
       "      <td>Piala Dunia U-17 edisi ke-19 mulai digelar har...</td>\n",
       "      <td>Detikcom</td>\n",
       "      <td>NaN</td>\n",
       "    </tr>\n",
       "    <tr>\n",
       "      <th>6</th>\n",
       "      <td>Konser Coldplay di Jakarta tinggal menghitung ...</td>\n",
       "      <td>Detikcom</td>\n",
       "      <td>NaN</td>\n",
       "    </tr>\n",
       "    <tr>\n",
       "      <th>7</th>\n",
       "      <td>YG Entertainment meresmikan tanggal debut girl...</td>\n",
       "      <td>Detikcom</td>\n",
       "      <td>NaN</td>\n",
       "    </tr>\n",
       "    <tr>\n",
       "      <th>8</th>\n",
       "      <td>Aktor Dallas Pratama pada 2015 mengalami pecah...</td>\n",
       "      <td>Detikcom</td>\n",
       "      <td>NaN</td>\n",
       "    </tr>\n",
       "    <tr>\n",
       "      <th>9</th>\n",
       "      <td>Akhir Oktober lalu, Cube Entertainment mengumu...</td>\n",
       "      <td>Detikcom</td>\n",
       "      <td>NaN</td>\n",
       "    </tr>\n",
       "  </tbody>\n",
       "</table>\n",
       "</div>"
      ],
      "text/plain": [
       "                                                Teks     Media  Label\n",
       "0  Semalam, Bring Me The Horizon (BMTH) menggelar...  Detikcom    NaN\n",
       "1  Lagu Hilang Tanpa Bilang milik Meiska berhasil...  Detikcom    NaN\n",
       "2  Dirilis tahun 2020, lagu WANNABE ITZY rupanya ...  Detikcom    NaN\n",
       "3  PK Entertainment selaku promotor konser Coldpl...  Detikcom    NaN\n",
       "4  Konser Coldplay di Jakarta akan digelar pada 1...  Detikcom    NaN\n",
       "5  Piala Dunia U-17 edisi ke-19 mulai digelar har...  Detikcom    NaN\n",
       "6  Konser Coldplay di Jakarta tinggal menghitung ...  Detikcom    NaN\n",
       "7  YG Entertainment meresmikan tanggal debut girl...  Detikcom    NaN\n",
       "8  Aktor Dallas Pratama pada 2015 mengalami pecah...  Detikcom    NaN\n",
       "9  Akhir Oktober lalu, Cube Entertainment mengumu...  Detikcom    NaN"
      ]
     },
     "execution_count": 75,
     "metadata": {},
     "output_type": "execute_result"
    }
   ],
   "source": [
    "hi"
   ]
  },
  {
   "cell_type": "code",
   "execution_count": null,
   "metadata": {
    "vscode": {
     "languageId": "latex"
    }
   },
   "outputs": [],
   "source": [
    "Dibawah ini file CSV DetikcomScrapingEkonomi dan DetikcomScrapingPolitik di satukan ke file\n",
    "bernama DetikComScraping"
   ]
  },
  {
   "cell_type": "code",
   "execution_count": 76,
   "metadata": {},
   "outputs": [],
   "source": [
    "import pandas as pd\n",
    "\n",
    "# Baca file CSV olahraga\n",
    "olahraga_df = pd.read_csv('DetikcomScrapingOlahraga.csv')\n",
    "\n",
    "# Baca file CSV politik\n",
    "politik_df = pd.read_csv('DetikcomScrapingPolitik.csv')\n",
    "# Baca file CSV hiburan\n",
    "hiburan_df = pd.read_csv('DetikcomScrapingHiburan.csv')\n",
    "\n",
    "# Gabungkan kolom yang sesuai\n",
    "result_df = pd.concat([politik_df[['Teks', 'Media', 'Label']], olahraga_df[['Teks', 'Media', 'Label']], hiburan_df[['Teks', 'Media', 'Label']]])\n",
    "\n",
    "# Simpan hasil penggabungan ke file CSV baru\n",
    "result_df.to_csv('DetikcomScraping.csv', index=False)\n"
   ]
  },
  {
   "cell_type": "markdown",
   "metadata": {
    "vscode": {
     "languageId": "latex"
    }
   },
   "source": [
    "***Cara ke 2 : CNBC***"
   ]
  },
  {
   "cell_type": "code",
   "execution_count": 77,
   "metadata": {},
   "outputs": [
    {
     "name": "stdout",
     "output_type": "stream",
     "text": [
      "                                                 Teks           Media Label\n",
      "0   Jakarta, CNBC Indonesia - Ketua DPP PDIP Ahmad...  CNBC Indonesia  None\n",
      "1   Jakarta, CNBC Indonesia - Nama Gibran Rakabumi...  CNBC Indonesia  None\n",
      "2   Jakarta, CNBC Indonesia - Sekretaris Jenderal ...  CNBC Indonesia  None\n",
      "3   Jakarta, CNBC Indonesia - Analis politik Unive...  CNBC Indonesia  None\n",
      "4   Jakarta, CNBC Indonesia - Kaesang Pangarep res...  CNBC Indonesia  None\n",
      "5   Jakarta, CNBC Indonesia - Pemerintah Amerika m...  CNBC Indonesia  None\n",
      "6   Jakarta, CNBC Indonesia - Juru Bicara Badan Si...  CNBC Indonesia  None\n",
      "7   Logistik berupa kotak suara ini merupakan taha...  CNBC Indonesia  None\n",
      "8   Jakarta, CNBC Indonesia - Sandiaga Uno sering ...  CNBC Indonesia  None\n",
      "9   Jakarta, CNBC Indonesia - Sejumlah pekerjaan r...  CNBC Indonesia  None\n",
      "10  Jakarta, CNBC Indonesia - Indonesia memiliki w...  CNBC Indonesia  None\n",
      "11  Jakarta, CNBC Indonesia - Seorang dokter ahli ...  CNBC Indonesia  None\n",
      "12  Jakarta, CNBC Indonesia - Kehadiran para Wali ...  CNBC Indonesia  None\n",
      "13  Jakarta, CNBC Indonesia - Banyak orang mendamb...  CNBC Indonesia  None\n",
      "14  Jakarta,CNBC Indonesia - Putra Mahkota Saudi M...  CNBC Indonesia  None\n",
      "15  Liga Pro Arab Saudi berada di urutan kedua set...  CNBC Indonesia  None\n",
      "16  karta, CNBC Indonesia - Cristiano Ronaldo tela...  CNBC Indonesia  None\n",
      "17  Jakarta, CNBC Indonesia - Olahraga merupakan a...  CNBC Indonesia  None\n",
      "18  Saat sesi dimulai di studio di wilayah Vasant ...  CNBC Indonesia  None\n",
      "19  Jakarta, CNBC Indonesia - Kontingen Indonesia ...  CNBC Indonesia  None\n",
      "20  Jakarta, CNBC Indonesia - Penyanyi solo asal I...  CNBC Indonesia  None\n",
      "21  Jakarta, CNBC Indonesia - Selain dikenal sebag...  CNBC Indonesia  None\n",
      "22  Jakarta, CNBC Indonesia - Tidak hanya dikenal ...  CNBC Indonesia  None\n",
      "23  Jakarta, CNBC Indonesia - Raffi Ahmad adalah c...  CNBC Indonesia  None\n",
      "24  Jakarta, CNBC Indonesia - BLACKPINK resmi mera...  CNBC Indonesia  None\n",
      "25  Jakarta, CNBC Indonesia — Saham agensi K-pop Y...  CNBC Indonesia  None\n",
      "26  Jakarta, CNBC Indonesia - Saham agensi K-pop Y...  CNBC Indonesia  None\n",
      "27  Jakarta, CNBC Indonesia - PT Bursa Efek Indone...  CNBC Indonesia  None\n",
      "28  Jakarta, CNBC Indonesia - Lisa, salah satu mem...  CNBC Indonesia  None\n",
      "29  Jakarta, CNBC Indonesia - Saham perusahaan age...  CNBC Indonesia  None\n"
     ]
    }
   ],
   "source": [
    "from newspaper import Article\n",
    "import pandas as pd\n",
    "\n",
    "# Daftar URL artikel\n",
    "urls = [\n",
    "    'https://www.cnbcindonesia.com/news/20231104103847-4-486354/disebut-pembangkang-oleh-pdip-gibran-langsung-jawab-ini',\n",
    "    'https://www.cnbcindonesia.com/news/20231104102035-4-486352/gibran-diremehkan-jadi-cawapres-luhut-ikut-buka-suara',\n",
    "    'https://www.cnbcindonesia.com/news/20231029151957-4-484589/hasto-pdip-soal-jokowi-kami-mencintai-tapi-kami-ditinggalkan',\n",
    "    'https://www.cnbcindonesia.com/news/20231029172305-4-484603/prabowo-kok-berani-pilih-gibran-jadi-cawapres-ini-analisanya',\n",
    "    'https://www.cnbcindonesia.com/news/20230924075058-4-475011/kaesang-masuk-psi-jelang-pilpres-pakar-ungkap-plus-minusnya',\n",
    "    'https://www.cnbcindonesia.com/tech/20231103165019-37-486248/gedung-putih-saja-takut-awas-ai-bikin-pemilu-chaos',\n",
    "    'https://www.cnbcindonesia.com/tech/20231103063156-37-486010/pemilu-darurat-siber-bahaya-hacker-cuci-otak-warga-ri',\n",
    "    'https://www.cnbcindonesia.com/news/20231102181640-7-485929/pemilu-kian-dekat-ribuan-kotak-suara-tiba-di-gudang-kpu',\n",
    "    'https://www.cnbcindonesia.com/news/20230808121537-4-461085/bukan-sandiaga-uno-cak-imin-ini-cawapres-terkuat-prabowo',\n",
    "    'https://www.cnbcindonesia.com/news/20230803191734-8-460004/pengamat-politik-belum-ada-program-3-capres-tersandera',\n",
    "    \n",
    "\n",
    "    'https://www.cnbcindonesia.com/entrepreneur/20231027170810-25-484334/pencak-silat-jadi-industri-seni-dan-bisnis-ini-alasannya',\n",
    "    'https://www.cnbcindonesia.com/lifestyle/20231022173933-33-482666/dokter-berusia-nyaris-100-tahun-bagikan-8-tips-panjang-umur',\n",
    "    'https://www.cnbcindonesia.com/news/20231015084149-4-480621/tak-cuma-olahraga-pertemuan-apeksi-perkuat-kolaborasi-daerah',\n",
    "    'https://www.cnbcindonesia.com/lifestyle/20231002100522-33-476970/rahasia-5-menit-ini-bikin-warga-jepang-hidup-hingga-100-tahun',\n",
    "    'https://www.cnbcindonesia.com/research/20230924084959-128-475016/isu-sportwashing-memanas-pangeran-arab-saya-tidak-peduli',\n",
    "    'https://www.cnbcindonesia.com/research/20230909122432-128-470937/arab-jadi-raja-sepak-bola-belanja-pemain-rp-1530-t',\n",
    "    'https://www.cnbcindonesia.com/lifestyle/20230824092246-33-465702/gaya-hidup-sehat-ronaldo-menu-makan-olahraga-sehari-hari',\n",
    "    'https://www.cnbcindonesia.com/lifestyle/20230817014659-33-463754/olahraga-yang-wajib-rutin-untuk-orang-tua',\n",
    "    'https://www.cnbcindonesia.com/lifestyle/20230810141425-34-461860/lagi-trend-komunitas-yoga-ajak-kucing-peliharaan-olahraga',\n",
    "    'https://www.cnbcindonesia.com/lifestyle/20231006090620-33-478386/update-asian-games-2023-badminton-ri-cetak-sejarah-terburuk',\n",
    "    \n",
    "    'https://www.cnbcindonesia.com/lifestyle/20231020093953-33-482196/ed-sheeran-konser-lagi-di-jakarta-tiket-mulai-rp900-ribu',\n",
    "    'https://www.cnbcindonesia.com/lifestyle/20231014172610-33-480582/daftar-bisnis-raffi-ahmad-nagita-slavina-yang-bangkrut',\n",
    "    'https://www.cnbcindonesia.com/lifestyle/20230917161830-33-473153/hidup-raffi-ahmad-nagita-tidak-selalu-enak-ini-buktinya',\n",
    "    'https://www.cnbcindonesia.com/lifestyle/20230916081710-33-472990/tak-terduga-ini-7-bisnis-raffi-ahmad-nagita-yang-bangkrut',\n",
    "    'https://www.cnbcindonesia.com/lifestyle/20230809151839-33-461516/anniversary-ke-7-segini-total-kekayaan-member-blackpink',\n",
    "    'https://www.cnbcindonesia.com/market/20230922093620-17-474670/saham-yg-anjlok-9-usai-kontrak-lisa-blackpink-habis',\n",
    "    'https://www.cnbcindonesia.com/lifestyle/20230921155723-33-474482/cuma-rose-blackpink-mau-perpanjang-kontrak-saham-yg-ambles',\n",
    "    'https://www.cnbcindonesia.com/market/20230920091335-17-473940/harga-saham-anjlok-tajam-bei-pelototi-emiten-hary-tanoe',\n",
    "    'https://www.cnbcindonesia.com/lifestyle/20230919095149-33-473600/diisukan-cabut-dari-yg-berapa-kekayaan-lisa-blackpink',\n",
    "    'https://www.cnbcindonesia.com/research/20230918021207-128-473196/lisa-blackpink-emoh-teken-kontrak-valuasi-yg-ambruk-rp130-m'\n",
    "    \n",
    "]\n",
    "\n",
    "# Inisialisasi DataFrame\n",
    "data = {\n",
    "    \"Teks\": [],\n",
    "    \"Media\": [],\n",
    "    \"Label\": []\n",
    "}\n",
    "\n",
    "# Loop melalui setiap URL, mengambil teks, dan menambahkannya ke DataFrame\n",
    "for url in urls:\n",
    "    a = Article(url, language='id')\n",
    "    a.download()\n",
    "    a.parse()\n",
    "\n",
    "    # Data dari artikel\n",
    "    teks_berita = a.text\n",
    "    media = \"CNBC Indonesia\"\n",
    "    label = None  # Anda perlu menentukan label sesuai kebutuhan Anda\n",
    "\n",
    "    # Menambahkan data ke DataFrame\n",
    "    data[\"Teks\"].append(teks_berita)\n",
    "    data[\"Media\"].append(media)\n",
    "    data[\"Label\"].append(label)\n",
    "\n",
    "# Membuat DataFrame\n",
    "df = pd.DataFrame(data)\n",
    "\n",
    "# Save the DataFrame to a CSV file\n",
    "df.to_csv('CNBCScraping.csv', index=False)  # Save the DataFrame to CSV without writing the index column\n",
    "\n",
    "# Display the DataFrame (optional)\n",
    "print(df)\n"
   ]
  },
  {
   "cell_type": "markdown",
   "metadata": {
    "vscode": {
     "languageId": "latex"
    }
   },
   "source": [
    "***Cara ke 2 : Liputan6***"
   ]
  },
  {
   "cell_type": "code",
   "execution_count": 78,
   "metadata": {},
   "outputs": [
    {
     "name": "stdout",
     "output_type": "stream",
     "text": [
      "                                                 Teks     Media Label\n",
      "0   Liputan6.com, Jakarta - Centre for Strategic a...  Liputan6  None\n",
      "1   Liputan6.com, Jakarta - Komisi Pemilihan Umum ...  Liputan6  None\n",
      "2   Liputan6.com, Jakarta - Komisi Pemilihan Umum ...  Liputan6  None\n",
      "3   Liputan6.com, Jakarta Komisi Pemilihan Umum (K...  Liputan6  None\n",
      "4   Liputan6.com, Jakarta - Pada Pemilihan Umum at...  Liputan6  None\n",
      "5   Liputan6.com, Jakarta Calon presiden (Capres) ...  Liputan6  None\n",
      "6   Liputan6.com, Jakarta - Ketua Umum (Ketum) Par...  Liputan6  None\n",
      "7   Liputan6.com, Jakarta Bakal calon presiden dar...  Liputan6  None\n",
      "8   Liputan6.com, Jakarta - Peneliti dari lembaga ...  Liputan6  None\n",
      "9   Liputan6.com, Jakarta Sekjen PDIP Hasto Kristi...  Liputan6  None\n",
      "10  Liputan6.com, Jakarta - Menteri Pemuda dan Ola...  Liputan6  None\n",
      "11  Liputan6.com, Jakarta - Sekretaris Jenderal (S...  Liputan6  None\n",
      "12  Liputan6.com, Jakarta - Sukarelawan Ganjar Pra...  Liputan6  None\n",
      "13  Liputan6.com, Jakarta - Setelah sukses dengan ...  Liputan6  None\n",
      "14  Liputan6.com, Jakarta - Pemerintah Kota Batam ...  Liputan6  None\n",
      "15  Liputan6.com, Jakarta Berbagai potret Kate Mid...  Liputan6  None\n",
      "16  Liputan6.com, Mamuju - Ikatan Sport Sepeda Ind...  Liputan6  None\n",
      "17  Liputan6.com, Jakarta - Tren olahraga sambil b...  Liputan6  None\n",
      "18  Liputan6.com, Jakarta - Sport tourism menjadi ...  Liputan6  None\n",
      "19  Liputan6.com, Medan - Danau Toba, Sumatera Uta...  Liputan6  None\n",
      "20  Liputan6.com, Jakarta - Taman hiburan Chimelon...  Liputan6  None\n",
      "21  Liputan6.com, Jakarta Mayang Lucyana kerap men...  Liputan6  None\n",
      "22  Liputan6.com, Jakarta - Saham YG Entertainment...  Liputan6  None\n",
      "23  Liputan6.com, Jakarta - Saham agensi K-pop YG ...  Liputan6  None\n",
      "24  Liputan6.com, Jakarta - Saham YG Entertainment...  Liputan6  None\n",
      "25  Liputan6.com, Jakarta Nama Ragil Kembar Dwi Su...  Liputan6  None\n",
      "26  Liputan6.com, Jakarta - Sebagai pusat hiburan ...  Liputan6  None\n",
      "27  Liputan6.com, Jakarta Selain bermain musik, si...  Liputan6  None\n",
      "28  Liputan6.com, Jakarta - Vokalis Band Wali, Far...  Liputan6  None\n",
      "29  Liputan6.com, Jakarta - Lalisa Manoban, atau y...  Liputan6  None\n"
     ]
    }
   ],
   "source": [
    "from newspaper import Article\n",
    "import pandas as pd\n",
    "\n",
    "# Daftar URL artikel\n",
    "urls = [\n",
    "    'https://www.liputan6.com/cek-fakta/read/5443912/awas-hoaks-bisa-pengaruhi-kepercayaan-masyarakat-terhadap-hasil-pemilu-2024',\n",
    "    'https://www.liputan6.com/pemilu/read/5444596/kpu-surat-suara-pemilu-2024-mulai-dicetak-15-november-2023',\n",
    "    'https://www.liputan6.com/pemilu/read/5443757/kpu-tetapkan-9917-daftar-calon-tetap-anggota-dpr-pemilu-2024',\n",
    "    'https://www.liputan6.com/pemilu/read/5439844/kpu-umumkan-timses-capres-cawapres-pemilu-2024-pada-13-november-2023',\n",
    "    'https://www.liputan6.com/pemilu/read/2032299/pengamat-nilai-suara-anak-muda-jadi-penentu-pada-pemilu-2024-harap-bisa-jadi-agen-perubahan',\n",
    "    'https://www.liputan6.com/regional/read/5439797/tidak-terpengaruh-lawan-politik-prabowo-diprediksi-tetap-jadi-pilihan-utama-warga-jabar-di-pilpres-2024',\n",
    "    'https://www.liputan6.com/news/read/5444701/prabowo-akui-banyak-elite-politik-yang-menjelekkannya-saya-tak-ada-urusan-lebih-baik-setia-pada-rakyat',\n",
    "    'https://www.liputan6.com/pemilu/read/5430933/prabowo-dianggap-hidupkan-dinasti-politik-usai-gandeng-gibran-saya-juga-dinasti',\n",
    "    'https://www.liputan6.com/pemilu/read/5425827/pengamat-sebut-anies-diuntungkan-jika-gibran-jadi-cawapres-prabowo-politik-dinasti-bakal-jadi-sorotan',\n",
    "    'https://www.liputan6.com/pemilu/read/5435838/pdip-sindir-cara-gibran-jadi-bacawapres-hasil-pembangkangan-politik-dan-rekayasa-hukum',\n",
    "    \n",
    "    \n",
    "    'https://www.liputan6.com/news/read/5444896/kongres-tafisa-2023-menpora-dito-paparkan-cara-atasi-iklim-lewat-olahraga',\n",
    "    'https://www.liputan6.com/news/read/5444372/bali-juara-liga-kampung-soekarno-cup-u-17-sekjen-pdip-baliho-habis-dicabut-spirit-olahraga-muncul',\n",
    "    'https://www.liputan6.com/news/read/5381272/relawan-gp-ronggolawe-gelar-turnamen-e-sport-demi-cetak-atlet-milenial-andal',\n",
    "    'https://www.liputan6.com/showbiz/read/5374368/vindes-sport-menggelar-bahkan-voli-suguhkan-pertandingan-utama-the-prediksi-melawan-the-actors',\n",
    "    'https://www.liputan6.com/regional/read/5352937/event-batam-10k-ajang-sport-tourism-tarik-wisatawan-lokal-dan-internasional',\n",
    "    'https://www.liputan6.com/health/read/5329308/luwes-main-tenis-kate-middleton-si-princess-of-sport-bikin-netizen-terkesima',\n",
    "    'https://www.liputan6.com/regional/read/5286025/sulbar-national-criterium-race-ajang-pemicu-kebangkitan-sport-tourism',\n",
    "    'https://www.liputan6.com/lifestyle/read/5278450/potensi-sport-tourism-jadi-penggerak-sektor-pariwisata-di-indonesia',\n",
    "    'https://www.liputan6.com/lifestyle/read/5217731/cerita-akhir-pekan-sport-tourism-sehat-badan-dan-pariwisatanya',\n",
    "    'https://www.liputan6.com/regional/read/5211817/rekomendasi-kuliner-lezat-di-ajang-sport-tourism-f1-powerboat-danau-toba',\n",
    "    \n",
    "    'https://www.liputan6.com/lifestyle/read/5433966/taman-hiburan-indoor-terbesar-di-dunia-dibuka-di-china-punya-akuarium-raksasa-berisi-paus-orca',\n",
    "    'https://www.liputan6.com/showbiz/read/5416347/totalitas-mayang-terjun-ke-dunia-hiburan-hingga-oplas-hidung-sempat-tak-diizinkan-doddy-sudrajat-jadi-artis',\n",
    "    'https://www.liputan6.com/bisnis/read/5404739/saham-yg-entertainment-kembali-koreksi-di-tengah-isu-kontrak-blackpink',\n",
    "    'https://www.liputan6.com/bisnis/read/5398490/lisa-blackpink-dikabarkan-tolak-perpanjang-kontrak-saham-yg-entertainment-anjlok',\n",
    "    'https://www.liputan6.com/saham/read/5342650/lisa-blackpink-diisukan-tak-perpanjang-kontrak-saham-yg-entertainment-turun-7',\n",
    "    'https://www.liputan6.com/showbiz/read/5444097/immanuel-ragil-luangkan-hampir-semua-waktunya-demi-kesuksesan-karier-mahen-bagas-ran-dan-dycal-siahaan-di-industri-hiburan',\n",
    "    'https://www.liputan6.com/lifestyle/read/5318472/pusat-hiburan-keluarga-hadirkan-venue-lebih-luas-di-serpong-dengan-permainan-arcade-terbaru',\n",
    "    'https://www.liputan6.com/showbiz/read/5387412/angie-zelena-anggap-ice-skating-hiburan-di-luar-musik-pernah-raih-medali-emas',\n",
    "    'https://www.liputan6.com/islami/read/5377426/faank-wali-bertanya-ke-habib-umar-bin-hafidz-soal-dunia-hiburan-jawabannya-menyentuh-hati',\n",
    "    'https://www.liputan6.com/lifestyle/read/5375664/lisa-blackpink-jadi-selebritas-hiburan-asia-dengan-tarif-endorse-termahal-versi-instagram-rich-list'\n",
    "    ]\n",
    "\n",
    "# Inisialisasi DataFrame\n",
    "data = {\n",
    "    \"Teks\": [],\n",
    "    \"Media\": [],\n",
    "    \"Label\": []\n",
    "}\n",
    "\n",
    "# Loop melalui setiap URL, mengambil teks, dan menambahkannya ke DataFrame\n",
    "for url in urls:\n",
    "    a = Article(url, language='id')\n",
    "    a.download()\n",
    "    a.parse()\n",
    "\n",
    "    # Data dari artikel\n",
    "    teks_berita = a.text\n",
    "    media = \"Liputan6\"\n",
    "    label = None  # Anda perlu menentukan label sesuai kebutuhan Anda\n",
    "\n",
    "    # Menambahkan data ke DataFrame\n",
    "    data[\"Teks\"].append(teks_berita)\n",
    "    data[\"Media\"].append(media)\n",
    "    data[\"Label\"].append(label)\n",
    "\n",
    "# Membuat DataFrame\n",
    "df = pd.DataFrame(data)\n",
    "\n",
    "# Save the DataFrame to a CSV file\n",
    "df.to_csv('Liputan6Scraping.csv', index=False)  # Save the DataFrame to CSV without writing the index column\n",
    "\n",
    "# Display the DataFrame (optional)\n",
    "print(df)\n"
   ]
  },
  {
   "cell_type": "markdown",
   "metadata": {
    "vscode": {
     "languageId": "latex"
    }
   },
   "source": [
    "***Satukan tiga file DetikcomScraping.csv, CNBCScraping.csv dan Liputan6Scraping.csv\n",
    "Ke satu file beranama Dataset.csv***"
   ]
  },
  {
   "cell_type": "code",
   "execution_count": 81,
   "metadata": {},
   "outputs": [],
   "source": [
    "\n",
    "import pandas as pd\n",
    "\n",
    "# Baca file CSV Detikcom\n",
    "Detikcom = pd.read_csv('DetikcomScraping.csv')\n",
    "# Baca file CSV CNBC\n",
    "CNBC = pd.read_csv('CNBCScraping.csv')\n",
    "# Baca file CSV Liputan6\n",
    "Liputan6 = pd.read_csv('Liputan6Scraping.csv')\n",
    "\n",
    "# Gabungkan kolom yang sesuai\n",
    "result = pd.concat([Detikcom[['Teks', 'Media', 'Label']], CNBC[['Teks', 'Media', 'Label']], Liputan6[['Teks', 'Media', 'Label']]])\n",
    "\n",
    "# Hapus kata-kata yang tidak diinginkan dari kolom 'Teks'\n",
    "result['Teks'] = result['Teks'].str.replace('Liputan6.com, Mamuju - ', '')\n",
    "result['Teks'] = result['Teks'].str.replace('Liputan6.com, Jakarta - ', '')\n",
    "result['Teks'] = result['Teks'].str.replace('Liputan6.com, Jakarta ', '')\n",
    "result['Teks'] = result['Teks'].str.replace('Jakarta, CNBC Indonesia - ', '')\n",
    "result['Teks'] = result['Teks'].str.replace('karta, CNBC Indonesia - ', '')\n",
    "result['Teks'] = result['Teks'].str.replace('Liputan6.com, Medan - ', '')\n",
    "result['Teks'] = result['Teks'].str.replace('Jakarta, CNBC Indonesia ', '')\n",
    "result['Teks'] = result['Teks'].str.replace('Jakarta,CNBC Indonesia - ', '')\n",
    "\n",
    "# Simpan hasil penggabungan ke file CSV baru\n",
    "result.to_csv('Dataset.csv', index=False)\n"
   ]
  }
 ],
 "metadata": {
  "kernelspec": {
   "display_name": "Python 3",
   "language": "python",
   "name": "python3"
  },
  "language_info": {
   "codemirror_mode": {
    "name": "ipython",
    "version": 3
   },
   "file_extension": ".py",
   "mimetype": "text/x-python",
   "name": "python",
   "nbconvert_exporter": "python",
   "pygments_lexer": "ipython3",
   "version": "3.11.3"
  }
 },
 "nbformat": 4,
 "nbformat_minor": 2
}
